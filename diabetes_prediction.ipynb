{
  "nbformat": 4,
  "nbformat_minor": 0,
  "metadata": {
    "colab": {
      "provenance": []
    },
    "kernelspec": {
      "name": "python3",
      "display_name": "Python 3"
    },
    "language_info": {
      "name": "python"
    }
  },
  "cells": [
    {
      "cell_type": "markdown",
      "source": [
        "# Diabetes Prediction \n",
        "\n",
        "Predict Whether a person has diabetes or not"
      ],
      "metadata": {
        "id": "tqxKvZR5QYpM"
      }
    },
    {
      "cell_type": "markdown",
      "source": [
        "#Importing Libraries"
      ],
      "metadata": {
        "id": "5wEPx9uSQkgk"
      }
    },
    {
      "cell_type": "code",
      "source": [
        "import pandas as pd\n",
        "import numpy as np \n",
        "import matplotlib.pyplot as plt\n",
        "import seaborn as sns"
      ],
      "metadata": {
        "id": "WRdS87geQX5B"
      },
      "execution_count": 66,
      "outputs": []
    },
    {
      "cell_type": "markdown",
      "source": [
        "#Importing data set"
      ],
      "metadata": {
        "id": "yJKZ6J8aQy39"
      }
    },
    {
      "cell_type": "code",
      "execution_count": 107,
      "metadata": {
        "id": "dRq8VNYIQRCy"
      },
      "outputs": [],
      "source": [
        "df = pd.read_csv(\"/content/diabetes.csv\", na_values = \"?\")"
      ]
    },
    {
      "cell_type": "markdown",
      "source": [
        "#understand the Dataset"
      ],
      "metadata": {
        "id": "0e4y02_mQ9gZ"
      }
    },
    {
      "cell_type": "code",
      "source": [
        "df.shape"
      ],
      "metadata": {
        "colab": {
          "base_uri": "https://localhost:8080/"
        },
        "id": "euhlV_1QQ7Ro",
        "outputId": "535a5221-22bb-42ee-f172-47ccb7553531"
      },
      "execution_count": 108,
      "outputs": [
        {
          "output_type": "execute_result",
          "data": {
            "text/plain": [
              "(2000, 9)"
            ]
          },
          "metadata": {},
          "execution_count": 108
        }
      ]
    },
    {
      "cell_type": "code",
      "source": [
        "df.head()"
      ],
      "metadata": {
        "colab": {
          "base_uri": "https://localhost:8080/",
          "height": 206
        },
        "id": "VO22SvAJUXFC",
        "outputId": "fc70bb3c-f866-4a5e-b1c3-701e9266b2b4"
      },
      "execution_count": 109,
      "outputs": [
        {
          "output_type": "execute_result",
          "data": {
            "text/plain": [
              "   Pregnancies  Glucose  BloodPressure  SkinThickness  Insulin   BMI  \\\n",
              "0            2      138             62             35        0  33.6   \n",
              "1            0       84             82             31      125  38.2   \n",
              "2            0      145              0              0        0  44.2   \n",
              "3            0      135             68             42      250  42.3   \n",
              "4            1      139             62             41      480  40.7   \n",
              "\n",
              "   DiabetesPedigreeFunction  Age  Outcome  \n",
              "0                     0.127   47        1  \n",
              "1                     0.233   23        0  \n",
              "2                     0.630   31        1  \n",
              "3                     0.365   24        1  \n",
              "4                     0.536   21        0  "
            ],
            "text/html": [
              "\n",
              "  <div id=\"df-388d9c8f-1afe-450c-b30c-e35193b86772\">\n",
              "    <div class=\"colab-df-container\">\n",
              "      <div>\n",
              "<style scoped>\n",
              "    .dataframe tbody tr th:only-of-type {\n",
              "        vertical-align: middle;\n",
              "    }\n",
              "\n",
              "    .dataframe tbody tr th {\n",
              "        vertical-align: top;\n",
              "    }\n",
              "\n",
              "    .dataframe thead th {\n",
              "        text-align: right;\n",
              "    }\n",
              "</style>\n",
              "<table border=\"1\" class=\"dataframe\">\n",
              "  <thead>\n",
              "    <tr style=\"text-align: right;\">\n",
              "      <th></th>\n",
              "      <th>Pregnancies</th>\n",
              "      <th>Glucose</th>\n",
              "      <th>BloodPressure</th>\n",
              "      <th>SkinThickness</th>\n",
              "      <th>Insulin</th>\n",
              "      <th>BMI</th>\n",
              "      <th>DiabetesPedigreeFunction</th>\n",
              "      <th>Age</th>\n",
              "      <th>Outcome</th>\n",
              "    </tr>\n",
              "  </thead>\n",
              "  <tbody>\n",
              "    <tr>\n",
              "      <th>0</th>\n",
              "      <td>2</td>\n",
              "      <td>138</td>\n",
              "      <td>62</td>\n",
              "      <td>35</td>\n",
              "      <td>0</td>\n",
              "      <td>33.6</td>\n",
              "      <td>0.127</td>\n",
              "      <td>47</td>\n",
              "      <td>1</td>\n",
              "    </tr>\n",
              "    <tr>\n",
              "      <th>1</th>\n",
              "      <td>0</td>\n",
              "      <td>84</td>\n",
              "      <td>82</td>\n",
              "      <td>31</td>\n",
              "      <td>125</td>\n",
              "      <td>38.2</td>\n",
              "      <td>0.233</td>\n",
              "      <td>23</td>\n",
              "      <td>0</td>\n",
              "    </tr>\n",
              "    <tr>\n",
              "      <th>2</th>\n",
              "      <td>0</td>\n",
              "      <td>145</td>\n",
              "      <td>0</td>\n",
              "      <td>0</td>\n",
              "      <td>0</td>\n",
              "      <td>44.2</td>\n",
              "      <td>0.630</td>\n",
              "      <td>31</td>\n",
              "      <td>1</td>\n",
              "    </tr>\n",
              "    <tr>\n",
              "      <th>3</th>\n",
              "      <td>0</td>\n",
              "      <td>135</td>\n",
              "      <td>68</td>\n",
              "      <td>42</td>\n",
              "      <td>250</td>\n",
              "      <td>42.3</td>\n",
              "      <td>0.365</td>\n",
              "      <td>24</td>\n",
              "      <td>1</td>\n",
              "    </tr>\n",
              "    <tr>\n",
              "      <th>4</th>\n",
              "      <td>1</td>\n",
              "      <td>139</td>\n",
              "      <td>62</td>\n",
              "      <td>41</td>\n",
              "      <td>480</td>\n",
              "      <td>40.7</td>\n",
              "      <td>0.536</td>\n",
              "      <td>21</td>\n",
              "      <td>0</td>\n",
              "    </tr>\n",
              "  </tbody>\n",
              "</table>\n",
              "</div>\n",
              "      <button class=\"colab-df-convert\" onclick=\"convertToInteractive('df-388d9c8f-1afe-450c-b30c-e35193b86772')\"\n",
              "              title=\"Convert this dataframe to an interactive table.\"\n",
              "              style=\"display:none;\">\n",
              "        \n",
              "  <svg xmlns=\"http://www.w3.org/2000/svg\" height=\"24px\"viewBox=\"0 0 24 24\"\n",
              "       width=\"24px\">\n",
              "    <path d=\"M0 0h24v24H0V0z\" fill=\"none\"/>\n",
              "    <path d=\"M18.56 5.44l.94 2.06.94-2.06 2.06-.94-2.06-.94-.94-2.06-.94 2.06-2.06.94zm-11 1L8.5 8.5l.94-2.06 2.06-.94-2.06-.94L8.5 2.5l-.94 2.06-2.06.94zm10 10l.94 2.06.94-2.06 2.06-.94-2.06-.94-.94-2.06-.94 2.06-2.06.94z\"/><path d=\"M17.41 7.96l-1.37-1.37c-.4-.4-.92-.59-1.43-.59-.52 0-1.04.2-1.43.59L10.3 9.45l-7.72 7.72c-.78.78-.78 2.05 0 2.83L4 21.41c.39.39.9.59 1.41.59.51 0 1.02-.2 1.41-.59l7.78-7.78 2.81-2.81c.8-.78.8-2.07 0-2.86zM5.41 20L4 18.59l7.72-7.72 1.47 1.35L5.41 20z\"/>\n",
              "  </svg>\n",
              "      </button>\n",
              "      \n",
              "  <style>\n",
              "    .colab-df-container {\n",
              "      display:flex;\n",
              "      flex-wrap:wrap;\n",
              "      gap: 12px;\n",
              "    }\n",
              "\n",
              "    .colab-df-convert {\n",
              "      background-color: #E8F0FE;\n",
              "      border: none;\n",
              "      border-radius: 50%;\n",
              "      cursor: pointer;\n",
              "      display: none;\n",
              "      fill: #1967D2;\n",
              "      height: 32px;\n",
              "      padding: 0 0 0 0;\n",
              "      width: 32px;\n",
              "    }\n",
              "\n",
              "    .colab-df-convert:hover {\n",
              "      background-color: #E2EBFA;\n",
              "      box-shadow: 0px 1px 2px rgba(60, 64, 67, 0.3), 0px 1px 3px 1px rgba(60, 64, 67, 0.15);\n",
              "      fill: #174EA6;\n",
              "    }\n",
              "\n",
              "    [theme=dark] .colab-df-convert {\n",
              "      background-color: #3B4455;\n",
              "      fill: #D2E3FC;\n",
              "    }\n",
              "\n",
              "    [theme=dark] .colab-df-convert:hover {\n",
              "      background-color: #434B5C;\n",
              "      box-shadow: 0px 1px 3px 1px rgba(0, 0, 0, 0.15);\n",
              "      filter: drop-shadow(0px 1px 2px rgba(0, 0, 0, 0.3));\n",
              "      fill: #FFFFFF;\n",
              "    }\n",
              "  </style>\n",
              "\n",
              "      <script>\n",
              "        const buttonEl =\n",
              "          document.querySelector('#df-388d9c8f-1afe-450c-b30c-e35193b86772 button.colab-df-convert');\n",
              "        buttonEl.style.display =\n",
              "          google.colab.kernel.accessAllowed ? 'block' : 'none';\n",
              "\n",
              "        async function convertToInteractive(key) {\n",
              "          const element = document.querySelector('#df-388d9c8f-1afe-450c-b30c-e35193b86772');\n",
              "          const dataTable =\n",
              "            await google.colab.kernel.invokeFunction('convertToInteractive',\n",
              "                                                     [key], {});\n",
              "          if (!dataTable) return;\n",
              "\n",
              "          const docLinkHtml = 'Like what you see? Visit the ' +\n",
              "            '<a target=\"_blank\" href=https://colab.research.google.com/notebooks/data_table.ipynb>data table notebook</a>'\n",
              "            + ' to learn more about interactive tables.';\n",
              "          element.innerHTML = '';\n",
              "          dataTable['output_type'] = 'display_data';\n",
              "          await google.colab.output.renderOutput(dataTable, element);\n",
              "          const docLink = document.createElement('div');\n",
              "          docLink.innerHTML = docLinkHtml;\n",
              "          element.appendChild(docLink);\n",
              "        }\n",
              "      </script>\n",
              "    </div>\n",
              "  </div>\n",
              "  "
            ]
          },
          "metadata": {},
          "execution_count": 109
        }
      ]
    },
    {
      "cell_type": "code",
      "source": [
        "df.info()"
      ],
      "metadata": {
        "colab": {
          "base_uri": "https://localhost:8080/"
        },
        "id": "Tlcq7zyoRIeJ",
        "outputId": "45e7ce84-896f-4d53-eed8-a1faf93c6374"
      },
      "execution_count": 110,
      "outputs": [
        {
          "output_type": "stream",
          "name": "stdout",
          "text": [
            "<class 'pandas.core.frame.DataFrame'>\n",
            "RangeIndex: 2000 entries, 0 to 1999\n",
            "Data columns (total 9 columns):\n",
            " #   Column                    Non-Null Count  Dtype  \n",
            "---  ------                    --------------  -----  \n",
            " 0   Pregnancies               2000 non-null   int64  \n",
            " 1   Glucose                   2000 non-null   int64  \n",
            " 2   BloodPressure             2000 non-null   int64  \n",
            " 3   SkinThickness             2000 non-null   int64  \n",
            " 4   Insulin                   2000 non-null   int64  \n",
            " 5   BMI                       2000 non-null   float64\n",
            " 6   DiabetesPedigreeFunction  2000 non-null   float64\n",
            " 7   Age                       2000 non-null   int64  \n",
            " 8   Outcome                   2000 non-null   int64  \n",
            "dtypes: float64(2), int64(7)\n",
            "memory usage: 140.8 KB\n"
          ]
        }
      ]
    },
    {
      "cell_type": "code",
      "source": [
        "df.columns"
      ],
      "metadata": {
        "colab": {
          "base_uri": "https://localhost:8080/"
        },
        "id": "egsDltPxRKI7",
        "outputId": "271a396c-8773-466f-9fde-edefe038accc"
      },
      "execution_count": 111,
      "outputs": [
        {
          "output_type": "execute_result",
          "data": {
            "text/plain": [
              "Index(['Pregnancies', 'Glucose', 'BloodPressure', 'SkinThickness', 'Insulin',\n",
              "       'BMI', 'DiabetesPedigreeFunction', 'Age', 'Outcome'],\n",
              "      dtype='object')"
            ]
          },
          "metadata": {},
          "execution_count": 111
        }
      ]
    },
    {
      "cell_type": "code",
      "source": [
        "# statistical information\n",
        "df.describe()"
      ],
      "metadata": {
        "colab": {
          "base_uri": "https://localhost:8080/",
          "height": 300
        },
        "id": "h5qAA8NCRNVa",
        "outputId": "9cd17113-be36-4d83-cc86-e8c35405f2b4"
      },
      "execution_count": 112,
      "outputs": [
        {
          "output_type": "execute_result",
          "data": {
            "text/plain": [
              "       Pregnancies      Glucose  BloodPressure  SkinThickness      Insulin  \\\n",
              "count  2000.000000  2000.000000    2000.000000    2000.000000  2000.000000   \n",
              "mean      3.703500   121.182500      69.145500      20.935000    80.254000   \n",
              "std       3.306063    32.068636      19.188315      16.103243   111.180534   \n",
              "min       0.000000     0.000000       0.000000       0.000000     0.000000   \n",
              "25%       1.000000    99.000000      63.500000       0.000000     0.000000   \n",
              "50%       3.000000   117.000000      72.000000      23.000000    40.000000   \n",
              "75%       6.000000   141.000000      80.000000      32.000000   130.000000   \n",
              "max      17.000000   199.000000     122.000000     110.000000   744.000000   \n",
              "\n",
              "               BMI  DiabetesPedigreeFunction          Age      Outcome  \n",
              "count  2000.000000               2000.000000  2000.000000  2000.000000  \n",
              "mean     32.193000                  0.470930    33.090500     0.342000  \n",
              "std       8.149901                  0.323553    11.786423     0.474498  \n",
              "min       0.000000                  0.078000    21.000000     0.000000  \n",
              "25%      27.375000                  0.244000    24.000000     0.000000  \n",
              "50%      32.300000                  0.376000    29.000000     0.000000  \n",
              "75%      36.800000                  0.624000    40.000000     1.000000  \n",
              "max      80.600000                  2.420000    81.000000     1.000000  "
            ],
            "text/html": [
              "\n",
              "  <div id=\"df-25b2a61f-ff9f-4837-967a-eb0880ed189d\">\n",
              "    <div class=\"colab-df-container\">\n",
              "      <div>\n",
              "<style scoped>\n",
              "    .dataframe tbody tr th:only-of-type {\n",
              "        vertical-align: middle;\n",
              "    }\n",
              "\n",
              "    .dataframe tbody tr th {\n",
              "        vertical-align: top;\n",
              "    }\n",
              "\n",
              "    .dataframe thead th {\n",
              "        text-align: right;\n",
              "    }\n",
              "</style>\n",
              "<table border=\"1\" class=\"dataframe\">\n",
              "  <thead>\n",
              "    <tr style=\"text-align: right;\">\n",
              "      <th></th>\n",
              "      <th>Pregnancies</th>\n",
              "      <th>Glucose</th>\n",
              "      <th>BloodPressure</th>\n",
              "      <th>SkinThickness</th>\n",
              "      <th>Insulin</th>\n",
              "      <th>BMI</th>\n",
              "      <th>DiabetesPedigreeFunction</th>\n",
              "      <th>Age</th>\n",
              "      <th>Outcome</th>\n",
              "    </tr>\n",
              "  </thead>\n",
              "  <tbody>\n",
              "    <tr>\n",
              "      <th>count</th>\n",
              "      <td>2000.000000</td>\n",
              "      <td>2000.000000</td>\n",
              "      <td>2000.000000</td>\n",
              "      <td>2000.000000</td>\n",
              "      <td>2000.000000</td>\n",
              "      <td>2000.000000</td>\n",
              "      <td>2000.000000</td>\n",
              "      <td>2000.000000</td>\n",
              "      <td>2000.000000</td>\n",
              "    </tr>\n",
              "    <tr>\n",
              "      <th>mean</th>\n",
              "      <td>3.703500</td>\n",
              "      <td>121.182500</td>\n",
              "      <td>69.145500</td>\n",
              "      <td>20.935000</td>\n",
              "      <td>80.254000</td>\n",
              "      <td>32.193000</td>\n",
              "      <td>0.470930</td>\n",
              "      <td>33.090500</td>\n",
              "      <td>0.342000</td>\n",
              "    </tr>\n",
              "    <tr>\n",
              "      <th>std</th>\n",
              "      <td>3.306063</td>\n",
              "      <td>32.068636</td>\n",
              "      <td>19.188315</td>\n",
              "      <td>16.103243</td>\n",
              "      <td>111.180534</td>\n",
              "      <td>8.149901</td>\n",
              "      <td>0.323553</td>\n",
              "      <td>11.786423</td>\n",
              "      <td>0.474498</td>\n",
              "    </tr>\n",
              "    <tr>\n",
              "      <th>min</th>\n",
              "      <td>0.000000</td>\n",
              "      <td>0.000000</td>\n",
              "      <td>0.000000</td>\n",
              "      <td>0.000000</td>\n",
              "      <td>0.000000</td>\n",
              "      <td>0.000000</td>\n",
              "      <td>0.078000</td>\n",
              "      <td>21.000000</td>\n",
              "      <td>0.000000</td>\n",
              "    </tr>\n",
              "    <tr>\n",
              "      <th>25%</th>\n",
              "      <td>1.000000</td>\n",
              "      <td>99.000000</td>\n",
              "      <td>63.500000</td>\n",
              "      <td>0.000000</td>\n",
              "      <td>0.000000</td>\n",
              "      <td>27.375000</td>\n",
              "      <td>0.244000</td>\n",
              "      <td>24.000000</td>\n",
              "      <td>0.000000</td>\n",
              "    </tr>\n",
              "    <tr>\n",
              "      <th>50%</th>\n",
              "      <td>3.000000</td>\n",
              "      <td>117.000000</td>\n",
              "      <td>72.000000</td>\n",
              "      <td>23.000000</td>\n",
              "      <td>40.000000</td>\n",
              "      <td>32.300000</td>\n",
              "      <td>0.376000</td>\n",
              "      <td>29.000000</td>\n",
              "      <td>0.000000</td>\n",
              "    </tr>\n",
              "    <tr>\n",
              "      <th>75%</th>\n",
              "      <td>6.000000</td>\n",
              "      <td>141.000000</td>\n",
              "      <td>80.000000</td>\n",
              "      <td>32.000000</td>\n",
              "      <td>130.000000</td>\n",
              "      <td>36.800000</td>\n",
              "      <td>0.624000</td>\n",
              "      <td>40.000000</td>\n",
              "      <td>1.000000</td>\n",
              "    </tr>\n",
              "    <tr>\n",
              "      <th>max</th>\n",
              "      <td>17.000000</td>\n",
              "      <td>199.000000</td>\n",
              "      <td>122.000000</td>\n",
              "      <td>110.000000</td>\n",
              "      <td>744.000000</td>\n",
              "      <td>80.600000</td>\n",
              "      <td>2.420000</td>\n",
              "      <td>81.000000</td>\n",
              "      <td>1.000000</td>\n",
              "    </tr>\n",
              "  </tbody>\n",
              "</table>\n",
              "</div>\n",
              "      <button class=\"colab-df-convert\" onclick=\"convertToInteractive('df-25b2a61f-ff9f-4837-967a-eb0880ed189d')\"\n",
              "              title=\"Convert this dataframe to an interactive table.\"\n",
              "              style=\"display:none;\">\n",
              "        \n",
              "  <svg xmlns=\"http://www.w3.org/2000/svg\" height=\"24px\"viewBox=\"0 0 24 24\"\n",
              "       width=\"24px\">\n",
              "    <path d=\"M0 0h24v24H0V0z\" fill=\"none\"/>\n",
              "    <path d=\"M18.56 5.44l.94 2.06.94-2.06 2.06-.94-2.06-.94-.94-2.06-.94 2.06-2.06.94zm-11 1L8.5 8.5l.94-2.06 2.06-.94-2.06-.94L8.5 2.5l-.94 2.06-2.06.94zm10 10l.94 2.06.94-2.06 2.06-.94-2.06-.94-.94-2.06-.94 2.06-2.06.94z\"/><path d=\"M17.41 7.96l-1.37-1.37c-.4-.4-.92-.59-1.43-.59-.52 0-1.04.2-1.43.59L10.3 9.45l-7.72 7.72c-.78.78-.78 2.05 0 2.83L4 21.41c.39.39.9.59 1.41.59.51 0 1.02-.2 1.41-.59l7.78-7.78 2.81-2.81c.8-.78.8-2.07 0-2.86zM5.41 20L4 18.59l7.72-7.72 1.47 1.35L5.41 20z\"/>\n",
              "  </svg>\n",
              "      </button>\n",
              "      \n",
              "  <style>\n",
              "    .colab-df-container {\n",
              "      display:flex;\n",
              "      flex-wrap:wrap;\n",
              "      gap: 12px;\n",
              "    }\n",
              "\n",
              "    .colab-df-convert {\n",
              "      background-color: #E8F0FE;\n",
              "      border: none;\n",
              "      border-radius: 50%;\n",
              "      cursor: pointer;\n",
              "      display: none;\n",
              "      fill: #1967D2;\n",
              "      height: 32px;\n",
              "      padding: 0 0 0 0;\n",
              "      width: 32px;\n",
              "    }\n",
              "\n",
              "    .colab-df-convert:hover {\n",
              "      background-color: #E2EBFA;\n",
              "      box-shadow: 0px 1px 2px rgba(60, 64, 67, 0.3), 0px 1px 3px 1px rgba(60, 64, 67, 0.15);\n",
              "      fill: #174EA6;\n",
              "    }\n",
              "\n",
              "    [theme=dark] .colab-df-convert {\n",
              "      background-color: #3B4455;\n",
              "      fill: #D2E3FC;\n",
              "    }\n",
              "\n",
              "    [theme=dark] .colab-df-convert:hover {\n",
              "      background-color: #434B5C;\n",
              "      box-shadow: 0px 1px 3px 1px rgba(0, 0, 0, 0.15);\n",
              "      filter: drop-shadow(0px 1px 2px rgba(0, 0, 0, 0.3));\n",
              "      fill: #FFFFFF;\n",
              "    }\n",
              "  </style>\n",
              "\n",
              "      <script>\n",
              "        const buttonEl =\n",
              "          document.querySelector('#df-25b2a61f-ff9f-4837-967a-eb0880ed189d button.colab-df-convert');\n",
              "        buttonEl.style.display =\n",
              "          google.colab.kernel.accessAllowed ? 'block' : 'none';\n",
              "\n",
              "        async function convertToInteractive(key) {\n",
              "          const element = document.querySelector('#df-25b2a61f-ff9f-4837-967a-eb0880ed189d');\n",
              "          const dataTable =\n",
              "            await google.colab.kernel.invokeFunction('convertToInteractive',\n",
              "                                                     [key], {});\n",
              "          if (!dataTable) return;\n",
              "\n",
              "          const docLinkHtml = 'Like what you see? Visit the ' +\n",
              "            '<a target=\"_blank\" href=https://colab.research.google.com/notebooks/data_table.ipynb>data table notebook</a>'\n",
              "            + ' to learn more about interactive tables.';\n",
              "          element.innerHTML = '';\n",
              "          dataTable['output_type'] = 'display_data';\n",
              "          await google.colab.output.renderOutput(dataTable, element);\n",
              "          const docLink = document.createElement('div');\n",
              "          docLink.innerHTML = docLinkHtml;\n",
              "          element.appendChild(docLink);\n",
              "        }\n",
              "      </script>\n",
              "    </div>\n",
              "  </div>\n",
              "  "
            ]
          },
          "metadata": {},
          "execution_count": 112
        }
      ]
    },
    {
      "cell_type": "code",
      "source": [
        "df.dtypes"
      ],
      "metadata": {
        "colab": {
          "base_uri": "https://localhost:8080/"
        },
        "id": "to8pMKUnRTzo",
        "outputId": "01f19b64-8e0c-42b2-bc87-15138ed9181d"
      },
      "execution_count": 113,
      "outputs": [
        {
          "output_type": "execute_result",
          "data": {
            "text/plain": [
              "Pregnancies                   int64\n",
              "Glucose                       int64\n",
              "BloodPressure                 int64\n",
              "SkinThickness                 int64\n",
              "Insulin                       int64\n",
              "BMI                         float64\n",
              "DiabetesPedigreeFunction    float64\n",
              "Age                           int64\n",
              "Outcome                       int64\n",
              "dtype: object"
            ]
          },
          "metadata": {},
          "execution_count": 113
        }
      ]
    },
    {
      "cell_type": "code",
      "source": [
        "df.isna().sum()"
      ],
      "metadata": {
        "colab": {
          "base_uri": "https://localhost:8080/"
        },
        "id": "-guLqMl2RWv-",
        "outputId": "a4073ff9-4607-4a24-d432-8b429660898d"
      },
      "execution_count": 114,
      "outputs": [
        {
          "output_type": "execute_result",
          "data": {
            "text/plain": [
              "Pregnancies                 0\n",
              "Glucose                     0\n",
              "BloodPressure               0\n",
              "SkinThickness               0\n",
              "Insulin                     0\n",
              "BMI                         0\n",
              "DiabetesPedigreeFunction    0\n",
              "Age                         0\n",
              "Outcome                     0\n",
              "dtype: int64"
            ]
          },
          "metadata": {},
          "execution_count": 114
        }
      ]
    },
    {
      "cell_type": "code",
      "source": [
        "#Importing Libraries to visualize the dataset\n",
        "import matplotlib.pyplot as plt\n",
        "import seaborn as sns"
      ],
      "metadata": {
        "id": "LRxXm6PWR0hx"
      },
      "execution_count": 115,
      "outputs": []
    },
    {
      "cell_type": "code",
      "source": [
        "df.corr()"
      ],
      "metadata": {
        "colab": {
          "base_uri": "https://localhost:8080/",
          "height": 332
        },
        "id": "rWU3GkKhVKCQ",
        "outputId": "b5c0c37f-76e0-4d49-8407-81a38c97535c"
      },
      "execution_count": 116,
      "outputs": [
        {
          "output_type": "execute_result",
          "data": {
            "text/plain": [
              "                          Pregnancies   Glucose  BloodPressure  SkinThickness  \\\n",
              "Pregnancies                  1.000000  0.120405       0.149672      -0.063375   \n",
              "Glucose                      0.120405  1.000000       0.138044       0.062368   \n",
              "BloodPressure                0.149672  0.138044       1.000000       0.198800   \n",
              "SkinThickness               -0.063375  0.062368       0.198800       1.000000   \n",
              "Insulin                     -0.076600  0.320371       0.087384       0.448859   \n",
              "BMI                          0.019475  0.226864       0.281545       0.393760   \n",
              "DiabetesPedigreeFunction    -0.025453  0.123243       0.051331       0.178299   \n",
              "Age                          0.539457  0.254496       0.238375      -0.111034   \n",
              "Outcome                      0.224437  0.458421       0.075958       0.076040   \n",
              "\n",
              "                           Insulin       BMI  DiabetesPedigreeFunction  \\\n",
              "Pregnancies              -0.076600  0.019475                 -0.025453   \n",
              "Glucose                   0.320371  0.226864                  0.123243   \n",
              "BloodPressure             0.087384  0.281545                  0.051331   \n",
              "SkinThickness             0.448859  0.393760                  0.178299   \n",
              "Insulin                   1.000000  0.223012                  0.192719   \n",
              "BMI                       0.223012  1.000000                  0.125719   \n",
              "DiabetesPedigreeFunction  0.192719  0.125719                  1.000000   \n",
              "Age                      -0.085879  0.038987                  0.026569   \n",
              "Outcome                   0.120924  0.276726                  0.155459   \n",
              "\n",
              "                               Age   Outcome  \n",
              "Pregnancies               0.539457  0.224437  \n",
              "Glucose                   0.254496  0.458421  \n",
              "BloodPressure             0.238375  0.075958  \n",
              "SkinThickness            -0.111034  0.076040  \n",
              "Insulin                  -0.085879  0.120924  \n",
              "BMI                       0.038987  0.276726  \n",
              "DiabetesPedigreeFunction  0.026569  0.155459  \n",
              "Age                       1.000000  0.236509  \n",
              "Outcome                   0.236509  1.000000  "
            ],
            "text/html": [
              "\n",
              "  <div id=\"df-668d0dbb-bc24-4822-803c-e5ecd366c3d0\">\n",
              "    <div class=\"colab-df-container\">\n",
              "      <div>\n",
              "<style scoped>\n",
              "    .dataframe tbody tr th:only-of-type {\n",
              "        vertical-align: middle;\n",
              "    }\n",
              "\n",
              "    .dataframe tbody tr th {\n",
              "        vertical-align: top;\n",
              "    }\n",
              "\n",
              "    .dataframe thead th {\n",
              "        text-align: right;\n",
              "    }\n",
              "</style>\n",
              "<table border=\"1\" class=\"dataframe\">\n",
              "  <thead>\n",
              "    <tr style=\"text-align: right;\">\n",
              "      <th></th>\n",
              "      <th>Pregnancies</th>\n",
              "      <th>Glucose</th>\n",
              "      <th>BloodPressure</th>\n",
              "      <th>SkinThickness</th>\n",
              "      <th>Insulin</th>\n",
              "      <th>BMI</th>\n",
              "      <th>DiabetesPedigreeFunction</th>\n",
              "      <th>Age</th>\n",
              "      <th>Outcome</th>\n",
              "    </tr>\n",
              "  </thead>\n",
              "  <tbody>\n",
              "    <tr>\n",
              "      <th>Pregnancies</th>\n",
              "      <td>1.000000</td>\n",
              "      <td>0.120405</td>\n",
              "      <td>0.149672</td>\n",
              "      <td>-0.063375</td>\n",
              "      <td>-0.076600</td>\n",
              "      <td>0.019475</td>\n",
              "      <td>-0.025453</td>\n",
              "      <td>0.539457</td>\n",
              "      <td>0.224437</td>\n",
              "    </tr>\n",
              "    <tr>\n",
              "      <th>Glucose</th>\n",
              "      <td>0.120405</td>\n",
              "      <td>1.000000</td>\n",
              "      <td>0.138044</td>\n",
              "      <td>0.062368</td>\n",
              "      <td>0.320371</td>\n",
              "      <td>0.226864</td>\n",
              "      <td>0.123243</td>\n",
              "      <td>0.254496</td>\n",
              "      <td>0.458421</td>\n",
              "    </tr>\n",
              "    <tr>\n",
              "      <th>BloodPressure</th>\n",
              "      <td>0.149672</td>\n",
              "      <td>0.138044</td>\n",
              "      <td>1.000000</td>\n",
              "      <td>0.198800</td>\n",
              "      <td>0.087384</td>\n",
              "      <td>0.281545</td>\n",
              "      <td>0.051331</td>\n",
              "      <td>0.238375</td>\n",
              "      <td>0.075958</td>\n",
              "    </tr>\n",
              "    <tr>\n",
              "      <th>SkinThickness</th>\n",
              "      <td>-0.063375</td>\n",
              "      <td>0.062368</td>\n",
              "      <td>0.198800</td>\n",
              "      <td>1.000000</td>\n",
              "      <td>0.448859</td>\n",
              "      <td>0.393760</td>\n",
              "      <td>0.178299</td>\n",
              "      <td>-0.111034</td>\n",
              "      <td>0.076040</td>\n",
              "    </tr>\n",
              "    <tr>\n",
              "      <th>Insulin</th>\n",
              "      <td>-0.076600</td>\n",
              "      <td>0.320371</td>\n",
              "      <td>0.087384</td>\n",
              "      <td>0.448859</td>\n",
              "      <td>1.000000</td>\n",
              "      <td>0.223012</td>\n",
              "      <td>0.192719</td>\n",
              "      <td>-0.085879</td>\n",
              "      <td>0.120924</td>\n",
              "    </tr>\n",
              "    <tr>\n",
              "      <th>BMI</th>\n",
              "      <td>0.019475</td>\n",
              "      <td>0.226864</td>\n",
              "      <td>0.281545</td>\n",
              "      <td>0.393760</td>\n",
              "      <td>0.223012</td>\n",
              "      <td>1.000000</td>\n",
              "      <td>0.125719</td>\n",
              "      <td>0.038987</td>\n",
              "      <td>0.276726</td>\n",
              "    </tr>\n",
              "    <tr>\n",
              "      <th>DiabetesPedigreeFunction</th>\n",
              "      <td>-0.025453</td>\n",
              "      <td>0.123243</td>\n",
              "      <td>0.051331</td>\n",
              "      <td>0.178299</td>\n",
              "      <td>0.192719</td>\n",
              "      <td>0.125719</td>\n",
              "      <td>1.000000</td>\n",
              "      <td>0.026569</td>\n",
              "      <td>0.155459</td>\n",
              "    </tr>\n",
              "    <tr>\n",
              "      <th>Age</th>\n",
              "      <td>0.539457</td>\n",
              "      <td>0.254496</td>\n",
              "      <td>0.238375</td>\n",
              "      <td>-0.111034</td>\n",
              "      <td>-0.085879</td>\n",
              "      <td>0.038987</td>\n",
              "      <td>0.026569</td>\n",
              "      <td>1.000000</td>\n",
              "      <td>0.236509</td>\n",
              "    </tr>\n",
              "    <tr>\n",
              "      <th>Outcome</th>\n",
              "      <td>0.224437</td>\n",
              "      <td>0.458421</td>\n",
              "      <td>0.075958</td>\n",
              "      <td>0.076040</td>\n",
              "      <td>0.120924</td>\n",
              "      <td>0.276726</td>\n",
              "      <td>0.155459</td>\n",
              "      <td>0.236509</td>\n",
              "      <td>1.000000</td>\n",
              "    </tr>\n",
              "  </tbody>\n",
              "</table>\n",
              "</div>\n",
              "      <button class=\"colab-df-convert\" onclick=\"convertToInteractive('df-668d0dbb-bc24-4822-803c-e5ecd366c3d0')\"\n",
              "              title=\"Convert this dataframe to an interactive table.\"\n",
              "              style=\"display:none;\">\n",
              "        \n",
              "  <svg xmlns=\"http://www.w3.org/2000/svg\" height=\"24px\"viewBox=\"0 0 24 24\"\n",
              "       width=\"24px\">\n",
              "    <path d=\"M0 0h24v24H0V0z\" fill=\"none\"/>\n",
              "    <path d=\"M18.56 5.44l.94 2.06.94-2.06 2.06-.94-2.06-.94-.94-2.06-.94 2.06-2.06.94zm-11 1L8.5 8.5l.94-2.06 2.06-.94-2.06-.94L8.5 2.5l-.94 2.06-2.06.94zm10 10l.94 2.06.94-2.06 2.06-.94-2.06-.94-.94-2.06-.94 2.06-2.06.94z\"/><path d=\"M17.41 7.96l-1.37-1.37c-.4-.4-.92-.59-1.43-.59-.52 0-1.04.2-1.43.59L10.3 9.45l-7.72 7.72c-.78.78-.78 2.05 0 2.83L4 21.41c.39.39.9.59 1.41.59.51 0 1.02-.2 1.41-.59l7.78-7.78 2.81-2.81c.8-.78.8-2.07 0-2.86zM5.41 20L4 18.59l7.72-7.72 1.47 1.35L5.41 20z\"/>\n",
              "  </svg>\n",
              "      </button>\n",
              "      \n",
              "  <style>\n",
              "    .colab-df-container {\n",
              "      display:flex;\n",
              "      flex-wrap:wrap;\n",
              "      gap: 12px;\n",
              "    }\n",
              "\n",
              "    .colab-df-convert {\n",
              "      background-color: #E8F0FE;\n",
              "      border: none;\n",
              "      border-radius: 50%;\n",
              "      cursor: pointer;\n",
              "      display: none;\n",
              "      fill: #1967D2;\n",
              "      height: 32px;\n",
              "      padding: 0 0 0 0;\n",
              "      width: 32px;\n",
              "    }\n",
              "\n",
              "    .colab-df-convert:hover {\n",
              "      background-color: #E2EBFA;\n",
              "      box-shadow: 0px 1px 2px rgba(60, 64, 67, 0.3), 0px 1px 3px 1px rgba(60, 64, 67, 0.15);\n",
              "      fill: #174EA6;\n",
              "    }\n",
              "\n",
              "    [theme=dark] .colab-df-convert {\n",
              "      background-color: #3B4455;\n",
              "      fill: #D2E3FC;\n",
              "    }\n",
              "\n",
              "    [theme=dark] .colab-df-convert:hover {\n",
              "      background-color: #434B5C;\n",
              "      box-shadow: 0px 1px 3px 1px rgba(0, 0, 0, 0.15);\n",
              "      filter: drop-shadow(0px 1px 2px rgba(0, 0, 0, 0.3));\n",
              "      fill: #FFFFFF;\n",
              "    }\n",
              "  </style>\n",
              "\n",
              "      <script>\n",
              "        const buttonEl =\n",
              "          document.querySelector('#df-668d0dbb-bc24-4822-803c-e5ecd366c3d0 button.colab-df-convert');\n",
              "        buttonEl.style.display =\n",
              "          google.colab.kernel.accessAllowed ? 'block' : 'none';\n",
              "\n",
              "        async function convertToInteractive(key) {\n",
              "          const element = document.querySelector('#df-668d0dbb-bc24-4822-803c-e5ecd366c3d0');\n",
              "          const dataTable =\n",
              "            await google.colab.kernel.invokeFunction('convertToInteractive',\n",
              "                                                     [key], {});\n",
              "          if (!dataTable) return;\n",
              "\n",
              "          const docLinkHtml = 'Like what you see? Visit the ' +\n",
              "            '<a target=\"_blank\" href=https://colab.research.google.com/notebooks/data_table.ipynb>data table notebook</a>'\n",
              "            + ' to learn more about interactive tables.';\n",
              "          element.innerHTML = '';\n",
              "          dataTable['output_type'] = 'display_data';\n",
              "          await google.colab.output.renderOutput(dataTable, element);\n",
              "          const docLink = document.createElement('div');\n",
              "          docLink.innerHTML = docLinkHtml;\n",
              "          element.appendChild(docLink);\n",
              "        }\n",
              "      </script>\n",
              "    </div>\n",
              "  </div>\n",
              "  "
            ]
          },
          "metadata": {},
          "execution_count": 116
        }
      ]
    },
    {
      "cell_type": "code",
      "source": [
        "plt.figure(figsize=(8,8))\n",
        "sns.heatmap(df.corr(), cmap=\"flag_r\")"
      ],
      "metadata": {
        "colab": {
          "base_uri": "https://localhost:8080/",
          "height": 624
        },
        "id": "-rZ6C7csVNId",
        "outputId": "0fa42881-ace1-4a61-81ec-6ae134808fdf"
      },
      "execution_count": 117,
      "outputs": [
        {
          "output_type": "execute_result",
          "data": {
            "text/plain": [
              "<matplotlib.axes._subplots.AxesSubplot at 0x7fac1cf472d0>"
            ]
          },
          "metadata": {},
          "execution_count": 117
        },
        {
          "output_type": "display_data",
          "data": {
            "text/plain": [
              "<Figure size 576x576 with 2 Axes>"
            ],
            "image/png": "[encoded data removed]"
          },
          "metadata": {
            "needs_background": "light"
          }
        }
      ]
    },
    {
      "cell_type": "code",
      "source": [
        "plt.figure(figsize=(5,5))\n",
        "sns.countplot(x=\"Outcome\", data = df)\n",
        "plt.xlabel('Has Diabetes')\n",
        "plt.ylabel('Count')"
      ],
      "metadata": {
        "colab": {
          "base_uri": "https://localhost:8080/",
          "height": 351
        },
        "id": "ntadyLOWSBsR",
        "outputId": "ab3b0208-c014-4de0-8f63-96de18370389"
      },
      "execution_count": 118,
      "outputs": [
        {
          "output_type": "execute_result",
          "data": {
            "text/plain": [
              "Text(0, 0.5, 'Count')"
            ]
          },
          "metadata": {},
          "execution_count": 118
        },
        {
          "output_type": "display_data",
          "data": {
            "text/plain": [
              "<Figure size 360x360 with 1 Axes>"
            ],
            "image/png": "[encoded data removed]"
          },
          "metadata": {
            "needs_background": "light"
          }
        }
      ]
    },
    {
      "cell_type": "markdown",
      "source": [
        "#Clean dataset"
      ],
      "metadata": {
        "id": "MHpB8_S1ScNx"
      }
    },
    {
      "cell_type": "code",
      "source": [
        "\n",
        "df_copy = df.copy(deep=True)\n",
        "df_copy[['Glucose','BloodPressure','SkinThickness','Insulin','BMI']] = df_copy[['Glucose','BloodPressure','SkinThickness','Insulin','BMI']].replace(0,np.NaN)\n",
        "df_copy.isnull().sum()"
      ],
      "metadata": {
        "colab": {
          "base_uri": "https://localhost:8080/"
        },
        "id": "hw2wxJ1PSQrY",
        "outputId": "a1fa30e4-2b4f-4b02-effd-fb446269bbc8"
      },
      "execution_count": 119,
      "outputs": [
        {
          "output_type": "execute_result",
          "data": {
            "text/plain": [
              "Pregnancies                   0\n",
              "Glucose                      13\n",
              "BloodPressure                90\n",
              "SkinThickness               573\n",
              "Insulin                     956\n",
              "BMI                          28\n",
              "DiabetesPedigreeFunction      0\n",
              "Age                           0\n",
              "Outcome                       0\n",
              "dtype: int64"
            ]
          },
          "metadata": {},
          "execution_count": 119
        }
      ]
    },
    {
      "cell_type": "code",
      "source": [
        "p = df_copy.hist(figsize = (15,15))"
      ],
      "metadata": {
        "colab": {
          "base_uri": "https://localhost:8080/",
          "height": 879
        },
        "id": "4oMpKHgCSruu",
        "outputId": "91c0e586-c8d3-401c-e3df-ce419ac225d6"
      },
      "execution_count": 120,
      "outputs": [
        {
          "output_type": "display_data",
          "data": {
            "text/plain": [
              "<Figure size 1080x1080 with 9 Axes>"
            ],
            "image/png": "[encoded data removed]"
          },
          "metadata": {
            "needs_background": "light"
          }
        }
      ]
    },
    {
      "cell_type": "code",
      "source": [
        "df_copy.fillna(df.median(), inplace=True)"
      ],
      "metadata": {
        "id": "XMK3zydUS5q_"
      },
      "execution_count": 121,
      "outputs": []
    },
    {
      "cell_type": "code",
      "source": [
        "df_copy.hist(figsize=(15,15))"
      ],
      "metadata": {
        "colab": {
          "base_uri": "https://localhost:8080/",
          "height": 1000
        },
        "id": "DUy7xmuvTID2",
        "outputId": "f7dc80db-0558-4ba2-d5be-b6d13178e999"
      },
      "execution_count": 122,
      "outputs": [
        {
          "output_type": "execute_result",
          "data": {
            "text/plain": [
              "array([[<matplotlib.axes._subplots.AxesSubplot object at 0x7fac185cbe10>,\n",
              "        <matplotlib.axes._subplots.AxesSubplot object at 0x7fac187b1ed0>,\n",
              "        <matplotlib.axes._subplots.AxesSubplot object at 0x7fac184b6e10>],\n",
              "       [<matplotlib.axes._subplots.AxesSubplot object at 0x7fac18479350>,\n",
              "        <matplotlib.axes._subplots.AxesSubplot object at 0x7fac1842f850>,\n",
              "        <matplotlib.axes._subplots.AxesSubplot object at 0x7fac183e4d50>],\n",
              "       [<matplotlib.axes._subplots.AxesSubplot object at 0x7fac183a7310>,\n",
              "        <matplotlib.axes._subplots.AxesSubplot object at 0x7fac1835c750>,\n",
              "        <matplotlib.axes._subplots.AxesSubplot object at 0x7fac1835c790>]],\n",
              "      dtype=object)"
            ]
          },
          "metadata": {},
          "execution_count": 122
        },
        {
          "output_type": "display_data",
          "data": {
            "text/plain": [
              "<Figure size 1080x1080 with 9 Axes>"
            ],
            "image/png": "[encoded data removed]"
          },
          "metadata": {
            "needs_background": "light"
          }
        }
      ]
    },
    {
      "cell_type": "code",
      "source": [
        "df_copy.isnull().sum()"
      ],
      "metadata": {
        "colab": {
          "base_uri": "https://localhost:8080/"
        },
        "id": "xTfwXMi1TOEn",
        "outputId": "0f52e208-3307-406f-a3d1-9b28a40d58db"
      },
      "execution_count": 123,
      "outputs": [
        {
          "output_type": "execute_result",
          "data": {
            "text/plain": [
              "Pregnancies                 0\n",
              "Glucose                     0\n",
              "BloodPressure               0\n",
              "SkinThickness               0\n",
              "Insulin                     0\n",
              "BMI                         0\n",
              "DiabetesPedigreeFunction    0\n",
              "Age                         0\n",
              "Outcome                     0\n",
              "dtype: int64"
            ]
          },
          "metadata": {},
          "execution_count": 123
        }
      ]
    },
    {
      "cell_type": "code",
      "source": [
        "# split the independent variable and dependent variable "
      ],
      "metadata": {
        "id": "WsOESvMbTXkI"
      },
      "execution_count": 124,
      "outputs": []
    },
    {
      "cell_type": "code",
      "source": [
        "\n",
        "x = df_copy.drop(columns=\"Outcome\")\n",
        "y = df_copy['Outcome']"
      ],
      "metadata": {
        "id": "QpgdoAWZTi0b"
      },
      "execution_count": 125,
      "outputs": []
    },
    {
      "cell_type": "code",
      "source": [],
      "metadata": {
        "id": "h_fqSBbxUf2m"
      },
      "execution_count": 125,
      "outputs": []
    },
    {
      "cell_type": "markdown",
      "source": [
        "#Feature Scaling Using Satndard scaler"
      ],
      "metadata": {
        "id": "JOAbE5XoUg6k"
      }
    },
    {
      "cell_type": "code",
      "source": [
        "from sklearn.model_selection import train_test_split\n",
        "\n",
        "x_train, x_test, y_train, y_test = train_test_split(x, y, test_size=0.2, random_state=42)\n",
        "print('X_train size: {}, X_test size: {}'.format(x_train.shape, x_test.shape))"
      ],
      "metadata": {
        "colab": {
          "base_uri": "https://localhost:8080/"
        },
        "id": "GCWRNxKMTyXw",
        "outputId": "8ee81239-68af-4ccc-882f-6877bebd3f21"
      },
      "execution_count": 126,
      "outputs": [
        {
          "output_type": "stream",
          "name": "stdout",
          "text": [
            "X_train size: (1600, 8), X_test size: (400, 8)\n"
          ]
        }
      ]
    },
    {
      "cell_type": "code",
      "source": [
        "from sklearn.preprocessing import StandardScaler\n",
        "sc = StandardScaler()\n",
        "x_train = sc.fit_transform(x_train)\n",
        "x_test = sc.transform(x_test)"
      ],
      "metadata": {
        "id": "Yyyk1S3lWPgW"
      },
      "execution_count": 127,
      "outputs": []
    },
    {
      "cell_type": "code",
      "source": [
        "from sklearn.model_selection import GridSearchCV\n",
        "from sklearn.model_selection import ShuffleSplit\n",
        "from sklearn.linear_model import LogisticRegression\n",
        "from sklearn.tree import DecisionTreeClassifier\n",
        "from sklearn.ensemble import RandomForestClassifier\n",
        "from sklearn.svm import SVC"
      ],
      "metadata": {
        "id": "bTCXsFE3UBIX"
      },
      "execution_count": 128,
      "outputs": []
    },
    {
      "cell_type": "code",
      "source": [
        "# Creating a function to find best model for this problem\n",
        "def find_best_model(X, y):\n",
        "    models = {\n",
        "        'logistic_regression': {\n",
        "            'model': LogisticRegression(solver='lbfgs', multi_class='auto'),\n",
        "            'parameters': {\n",
        "                'C': [1,5,10]\n",
        "               }\n",
        "        },\n",
        "        \n",
        "        'decision_tree': {\n",
        "            'model': DecisionTreeClassifier(splitter='best'),\n",
        "            'parameters': {\n",
        "                'criterion': ['gini', 'entropy'],\n",
        "                'max_depth': [5,10]\n",
        "            }\n",
        "        },\n",
        "        \n",
        "        'random_forest': {\n",
        "            'model': RandomForestClassifier(criterion='gini'),\n",
        "            'parameters': {\n",
        "                'n_estimators': [10,15,20,50,100,200]\n",
        "            }\n",
        "        },\n",
        "        \n",
        "        'svm': {\n",
        "            'model': SVC(gamma='auto'),\n",
        "            'parameters': {\n",
        "                'C': [1,10,20],\n",
        "                'kernel': ['rbf','linear']\n",
        "            }\n",
        "        }\n",
        "\n",
        "    }\n",
        "    scores = [] \n",
        "    cv_shuffle = ShuffleSplit(n_splits=5, test_size=0.20, random_state=0)\n",
        "        \n",
        "    for model_name, model_params in models.items():\n",
        "        gs = GridSearchCV(model_params['model'], model_params['parameters'], cv = cv_shuffle, return_train_score=False)\n",
        "        gs.fit(X, y)\n",
        "        scores.append({\n",
        "            'model': model_name,\n",
        "            'best_parameters': gs.best_params_,\n",
        "            'score': gs.best_score_\n",
        "        })\n",
        "        \n",
        "    return pd.DataFrame(scores, columns=['model','best_parameters','score'])\n",
        "\n",
        "find_best_model(x_train, y_train)"
      ],
      "metadata": {
        "colab": {
          "base_uri": "https://localhost:8080/",
          "height": 175
        },
        "id": "pQLY6NyyV1yJ",
        "outputId": "19b06be0-d89b-4889-92d0-913b0d5a87c3"
      },
      "execution_count": 129,
      "outputs": [
        {
          "output_type": "execute_result",
          "data": {
            "text/plain": [
              "                 model                         best_parameters     score\n",
              "0  logistic_regression                                {'C': 1}  0.757500\n",
              "1        decision_tree  {'criterion': 'gini', 'max_depth': 10}  0.912500\n",
              "2        random_forest                    {'n_estimators': 50}  0.938750\n",
              "3                  svm              {'C': 20, 'kernel': 'rbf'}  0.858125"
            ],
            "text/html": [
              "\n",
              "  <div id=\"df-3bffff9f-5f4a-40c9-9e76-0d9cb730299a\">\n",
              "    <div class=\"colab-df-container\">\n",
              "      <div>\n",
              "<style scoped>\n",
              "    .dataframe tbody tr th:only-of-type {\n",
              "        vertical-align: middle;\n",
              "    }\n",
              "\n",
              "    .dataframe tbody tr th {\n",
              "        vertical-align: top;\n",
              "    }\n",
              "\n",
              "    .dataframe thead th {\n",
              "        text-align: right;\n",
              "    }\n",
              "</style>\n",
              "<table border=\"1\" class=\"dataframe\">\n",
              "  <thead>\n",
              "    <tr style=\"text-align: right;\">\n",
              "      <th></th>\n",
              "      <th>model</th>\n",
              "      <th>best_parameters</th>\n",
              "      <th>score</th>\n",
              "    </tr>\n",
              "  </thead>\n",
              "  <tbody>\n",
              "    <tr>\n",
              "      <th>0</th>\n",
              "      <td>logistic_regression</td>\n",
              "      <td>{'C': 1}</td>\n",
              "      <td>0.757500</td>\n",
              "    </tr>\n",
              "    <tr>\n",
              "      <th>1</th>\n",
              "      <td>decision_tree</td>\n",
              "      <td>{'criterion': 'gini', 'max_depth': 10}</td>\n",
              "      <td>0.912500</td>\n",
              "    </tr>\n",
              "    <tr>\n",
              "      <th>2</th>\n",
              "      <td>random_forest</td>\n",
              "      <td>{'n_estimators': 50}</td>\n",
              "      <td>0.938750</td>\n",
              "    </tr>\n",
              "    <tr>\n",
              "      <th>3</th>\n",
              "      <td>svm</td>\n",
              "      <td>{'C': 20, 'kernel': 'rbf'}</td>\n",
              "      <td>0.858125</td>\n",
              "    </tr>\n",
              "  </tbody>\n",
              "</table>\n",
              "</div>\n",
              "      <button class=\"colab-df-convert\" onclick=\"convertToInteractive('df-3bffff9f-5f4a-40c9-9e76-0d9cb730299a')\"\n",
              "              title=\"Convert this dataframe to an interactive table.\"\n",
              "              style=\"display:none;\">\n",
              "        \n",
              "  <svg xmlns=\"http://www.w3.org/2000/svg\" height=\"24px\"viewBox=\"0 0 24 24\"\n",
              "       width=\"24px\">\n",
              "    <path d=\"M0 0h24v24H0V0z\" fill=\"none\"/>\n",
              "    <path d=\"M18.56 5.44l.94 2.06.94-2.06 2.06-.94-2.06-.94-.94-2.06-.94 2.06-2.06.94zm-11 1L8.5 8.5l.94-2.06 2.06-.94-2.06-.94L8.5 2.5l-.94 2.06-2.06.94zm10 10l.94 2.06.94-2.06 2.06-.94-2.06-.94-.94-2.06-.94 2.06-2.06.94z\"/><path d=\"M17.41 7.96l-1.37-1.37c-.4-.4-.92-.59-1.43-.59-.52 0-1.04.2-1.43.59L10.3 9.45l-7.72 7.72c-.78.78-.78 2.05 0 2.83L4 21.41c.39.39.9.59 1.41.59.51 0 1.02-.2 1.41-.59l7.78-7.78 2.81-2.81c.8-.78.8-2.07 0-2.86zM5.41 20L4 18.59l7.72-7.72 1.47 1.35L5.41 20z\"/>\n",
              "  </svg>\n",
              "      </button>\n",
              "      \n",
              "  <style>\n",
              "    .colab-df-container {\n",
              "      display:flex;\n",
              "      flex-wrap:wrap;\n",
              "      gap: 12px;\n",
              "    }\n",
              "\n",
              "    .colab-df-convert {\n",
              "      background-color: #E8F0FE;\n",
              "      border: none;\n",
              "      border-radius: 50%;\n",
              "      cursor: pointer;\n",
              "      display: none;\n",
              "      fill: #1967D2;\n",
              "      height: 32px;\n",
              "      padding: 0 0 0 0;\n",
              "      width: 32px;\n",
              "    }\n",
              "\n",
              "    .colab-df-convert:hover {\n",
              "      background-color: #E2EBFA;\n",
              "      box-shadow: 0px 1px 2px rgba(60, 64, 67, 0.3), 0px 1px 3px 1px rgba(60, 64, 67, 0.15);\n",
              "      fill: #174EA6;\n",
              "    }\n",
              "\n",
              "    [theme=dark] .colab-df-convert {\n",
              "      background-color: #3B4455;\n",
              "      fill: #D2E3FC;\n",
              "    }\n",
              "\n",
              "    [theme=dark] .colab-df-convert:hover {\n",
              "      background-color: #434B5C;\n",
              "      box-shadow: 0px 1px 3px 1px rgba(0, 0, 0, 0.15);\n",
              "      filter: drop-shadow(0px 1px 2px rgba(0, 0, 0, 0.3));\n",
              "      fill: #FFFFFF;\n",
              "    }\n",
              "  </style>\n",
              "\n",
              "      <script>\n",
              "        const buttonEl =\n",
              "          document.querySelector('#df-3bffff9f-5f4a-40c9-9e76-0d9cb730299a button.colab-df-convert');\n",
              "        buttonEl.style.display =\n",
              "          google.colab.kernel.accessAllowed ? 'block' : 'none';\n",
              "\n",
              "        async function convertToInteractive(key) {\n",
              "          const element = document.querySelector('#df-3bffff9f-5f4a-40c9-9e76-0d9cb730299a');\n",
              "          const dataTable =\n",
              "            await google.colab.kernel.invokeFunction('convertToInteractive',\n",
              "                                                     [key], {});\n",
              "          if (!dataTable) return;\n",
              "\n",
              "          const docLinkHtml = 'Like what you see? Visit the ' +\n",
              "            '<a target=\"_blank\" href=https://colab.research.google.com/notebooks/data_table.ipynb>data table notebook</a>'\n",
              "            + ' to learn more about interactive tables.';\n",
              "          element.innerHTML = '';\n",
              "          dataTable['output_type'] = 'display_data';\n",
              "          await google.colab.output.renderOutput(dataTable, element);\n",
              "          const docLink = document.createElement('div');\n",
              "          docLink.innerHTML = docLinkHtml;\n",
              "          element.appendChild(docLink);\n",
              "        }\n",
              "      </script>\n",
              "    </div>\n",
              "  </div>\n",
              "  "
            ]
          },
          "metadata": {},
          "execution_count": 129
        }
      ]
    },
    {
      "cell_type": "code",
      "source": [
        "from sklearn.model_selection import cross_val_score\n",
        "scores = cross_val_score(RandomForestClassifier(n_estimators=20, random_state=42), x_train, y_train, cv=5)\n",
        "print('Average Accuracy : {}%'.format(round(sum(scores)*100/len(scores)), 3))"
      ],
      "metadata": {
        "colab": {
          "base_uri": "https://localhost:8080/"
        },
        "id": "WuUchwkNWAki",
        "outputId": "99f130a0-e4c0-4983-b928-df0b2d7cfac0"
      },
      "execution_count": 130,
      "outputs": [
        {
          "output_type": "stream",
          "name": "stdout",
          "text": [
            "Average Accuracy : 95%\n"
          ]
        }
      ]
    },
    {
      "cell_type": "code",
      "source": [
        "# Creating Random Forest Model\n",
        "classifier = RandomForestClassifier(n_estimators=20, random_state=42)\n",
        "classifier.fit(x_train, y_train)"
      ],
      "metadata": {
        "colab": {
          "base_uri": "https://localhost:8080/"
        },
        "id": "4KcTEJ14WnYu",
        "outputId": "08245865-f191-43ca-c36a-ff0aceb03e14"
      },
      "execution_count": 131,
      "outputs": [
        {
          "output_type": "execute_result",
          "data": {
            "text/plain": [
              "RandomForestClassifier(n_estimators=20, random_state=42)"
            ]
          },
          "metadata": {},
          "execution_count": 131
        }
      ]
    },
    {
      "cell_type": "code",
      "source": [
        "# Creating a confusion matrix\n",
        "from sklearn.metrics import confusion_matrix, classification_report, accuracy_score\n",
        "y_pred = classifier.predict(x_test)\n",
        "cm = confusion_matrix(y_test, y_pred)\n",
        "cm"
      ],
      "metadata": {
        "colab": {
          "base_uri": "https://localhost:8080/"
        },
        "id": "Z3_Puc4bWz5S",
        "outputId": "a54b5041-111b-4576-a9b8-38cbc8be2fb3"
      },
      "execution_count": 132,
      "outputs": [
        {
          "output_type": "execute_result",
          "data": {
            "text/plain": [
              "array([[251,   2],\n",
              "       [  4, 143]])"
            ]
          },
          "metadata": {},
          "execution_count": 132
        }
      ]
    },
    {
      "cell_type": "code",
      "source": [
        "# Plotting the confusion matrix\n",
        "plt.figure(figsize=(10,7))\n",
        "p = sns.heatmap(cm, annot=True, cmap=\"Blues\", fmt='g')\n",
        "plt.title('Confusion matrix for Random Forest Classifier Model - Test Set')\n",
        "plt.xlabel('Predicted Values')\n",
        "plt.ylabel('Actual Values')\n",
        "plt.show()"
      ],
      "metadata": {
        "colab": {
          "base_uri": "https://localhost:8080/",
          "height": 458
        },
        "id": "2tyNYY2zW382",
        "outputId": "d02e8206-8a8a-47ee-e613-24a8b3329e5d"
      },
      "execution_count": 133,
      "outputs": [
        {
          "output_type": "display_data",
          "data": {
            "text/plain": [
              "<Figure size 720x504 with 2 Axes>"
            ],
            "image/png": "[encoded data removed]"
          },
          "metadata": {
            "needs_background": "light"
          }
        }
      ]
    },
    {
      "cell_type": "code",
      "source": [
        "# Accuracy Score\n",
        "score = round(accuracy_score(y_test, y_pred),4)*100\n",
        "print(\"Accuracy on test set: {}%\".format(score))"
      ],
      "metadata": {
        "colab": {
          "base_uri": "https://localhost:8080/"
        },
        "id": "twweUHyWW9Y7",
        "outputId": "6dd42ed5-d5be-4a56-f027-e72120cf3080"
      },
      "execution_count": 134,
      "outputs": [
        {
          "output_type": "stream",
          "name": "stdout",
          "text": [
            "Accuracy on test set: 98.5%\n"
          ]
        }
      ]
    },
    {
      "cell_type": "code",
      "source": [
        "# Classification Report\n",
        "print(classification_report(y_test, y_pred))"
      ],
      "metadata": {
        "colab": {
          "base_uri": "https://localhost:8080/"
        },
        "id": "kcEdnM0FXAuM",
        "outputId": "704e50b7-fc96-46e7-b675-192489d8bd96"
      },
      "execution_count": 135,
      "outputs": [
        {
          "output_type": "stream",
          "name": "stdout",
          "text": [
            "              precision    recall  f1-score   support\n",
            "\n",
            "           0       0.98      0.99      0.99       253\n",
            "           1       0.99      0.97      0.98       147\n",
            "\n",
            "    accuracy                           0.98       400\n",
            "   macro avg       0.99      0.98      0.98       400\n",
            "weighted avg       0.99      0.98      0.98       400\n",
            "\n"
          ]
        }
      ]
    },
    {
      "cell_type": "code",
      "source": [
        "# Creating a confusion matrix for training set\n",
        "y_train_pred = classifier.predict(x_train)\n",
        "cm = confusion_matrix(y_train, y_train_pred)\n",
        "cm"
      ],
      "metadata": {
        "colab": {
          "base_uri": "https://localhost:8080/"
        },
        "id": "ZpHmDc7qXFWy",
        "outputId": "6239da92-43d5-42d4-d714-8dbcd1230e77"
      },
      "execution_count": 136,
      "outputs": [
        {
          "output_type": "execute_result",
          "data": {
            "text/plain": [
              "array([[1063,    0],\n",
              "       [   0,  537]])"
            ]
          },
          "metadata": {},
          "execution_count": 136
        }
      ]
    },
    {
      "cell_type": "code",
      "source": [
        "# Plotting the confusion matrix\n",
        "plt.figure(figsize=(10,7))\n",
        "p = sns.heatmap(cm, annot=True, cmap=\"Blues\", fmt='g')\n",
        "plt.title('Confusion matrix for Random Forest Classifier Model - Train Set')\n",
        "plt.xlabel('Predicted Values')\n",
        "plt.ylabel('Actual Values')\n",
        "plt.show()"
      ],
      "metadata": {
        "colab": {
          "base_uri": "https://localhost:8080/",
          "height": 458
        },
        "id": "t3JcnwUMXFwW",
        "outputId": "0fe1343c-531f-4611-9637-c297ca606d61"
      },
      "execution_count": 137,
      "outputs": [
        {
          "output_type": "display_data",
          "data": {
            "text/plain": [
              "<Figure size 720x504 with 2 Axes>"
            ],
            "image/png": "[encoded data removed]"
          },
          "metadata": {
            "needs_background": "light"
          }
        }
      ]
    },
    {
      "cell_type": "code",
      "source": [
        "# Accuracy Score\n",
        "score = round(accuracy_score(y_train, y_train_pred),4)*100\n",
        "print(\"Accuracy on trainning set: {}%\".format(score))"
      ],
      "metadata": {
        "colab": {
          "base_uri": "https://localhost:8080/"
        },
        "id": "L9LQwIJDXNgC",
        "outputId": "91c4e56f-e688-408b-ce7d-073c90ac6534"
      },
      "execution_count": 138,
      "outputs": [
        {
          "output_type": "stream",
          "name": "stdout",
          "text": [
            "Accuracy on trainning set: 100.0%\n"
          ]
        }
      ]
    },
    {
      "cell_type": "code",
      "source": [
        "# Classification Report\n",
        "print(classification_report(y_train, y_train_pred))"
      ],
      "metadata": {
        "colab": {
          "base_uri": "https://localhost:8080/"
        },
        "id": "KKYlK1tfXQfe",
        "outputId": "4d5a16d0-2f63-4e3e-d0f8-63c4b59de94f"
      },
      "execution_count": 139,
      "outputs": [
        {
          "output_type": "stream",
          "name": "stdout",
          "text": [
            "              precision    recall  f1-score   support\n",
            "\n",
            "           0       1.00      1.00      1.00      1063\n",
            "           1       1.00      1.00      1.00       537\n",
            "\n",
            "    accuracy                           1.00      1600\n",
            "   macro avg       1.00      1.00      1.00      1600\n",
            "weighted avg       1.00      1.00      1.00      1600\n",
            "\n"
          ]
        }
      ]
    },
    {
      "cell_type": "code",
      "source": [
        "# Creating a function for prediction\n",
        "def predict_diabetes(Pregnancies, Glucose, BloodPressure, SkinThickness, Insulin, BMI, DPF, Age):\n",
        "    preg = int(Pregnancies)\n",
        "    glucose = float(Glucose)\n",
        "    bp = float(BloodPressure)\n",
        "    st = float(SkinThickness)\n",
        "    insulin = float(Insulin)\n",
        "    bmi = float(BMI)\n",
        "    dpf = float(DPF)\n",
        "    age = int(Age)\n",
        "\n",
        "    x = [[preg, glucose, bp, st, insulin, bmi, dpf, age]]\n",
        "    x = sc.transform(x)\n",
        "\n",
        "    return classifier.predict(x)"
      ],
      "metadata": {
        "id": "VBngFBRfXUdO"
      },
      "execution_count": 140,
      "outputs": []
    },
    {
      "cell_type": "code",
      "source": [
        "# Prediction 2\n",
        "# Input sequence: Pregnancies, Glucose, BloodPressure, SkinThickness, Insulin, BMI, DPF, Age\n",
        "prediction = predict_diabetes(1, 117, 88, 24, 145, 34.5, 0.403, 40)[0]\n",
        "if prediction:\n",
        "  print('Oops! You have diabetes.')\n",
        "else:\n",
        "  print(\"Great! You don't have diabetes.\")"
      ],
      "metadata": {
        "colab": {
          "base_uri": "https://localhost:8080/"
        },
        "id": "llMU6z5iXXD3",
        "outputId": "ecddd3b0-4dc7-4ce7-f6d1-851aecb5b233"
      },
      "execution_count": 141,
      "outputs": [
        {
          "output_type": "stream",
          "name": "stdout",
          "text": [
            "Oops! You have diabetes.\n"
          ]
        },
        {
          "output_type": "stream",
          "name": "stderr",
          "text": [
            "/usr/local/lib/python3.7/dist-packages/sklearn/base.py:451: UserWarning: X does not have valid feature names, but StandardScaler was fitted with feature names\n",
            "  \"X does not have valid feature names, but\"\n"
          ]
        }
      ]
    },
    {
      "cell_type": "code",
      "source": [
        "# Prediction 2\n",
        "# Input sequence: Pregnancies, Glucose, BloodPressure, SkinThickness, Insulin, BMI, DPF, Age\n",
        "prediction = predict_diabetes(5, 120, 92, 10, 81, 26.1, 0.551, 67)[0]\n",
        "if prediction:\n",
        "  print('Oops! You have diabetes.')\n",
        "else:\n",
        "  print(\"Great! You don't have diabetes.\")"
      ],
      "metadata": {
        "colab": {
          "base_uri": "https://localhost:8080/"
        },
        "id": "t2VGZUHKXZpa",
        "outputId": "e3f58441-bd91-472e-8455-54e9ef2a0009"
      },
      "execution_count": 142,
      "outputs": [
        {
          "output_type": "stream",
          "name": "stdout",
          "text": [
            "Great! You don't have diabetes.\n"
          ]
        },
        {
          "output_type": "stream",
          "name": "stderr",
          "text": [
            "/usr/local/lib/python3.7/dist-packages/sklearn/base.py:451: UserWarning: X does not have valid feature names, but StandardScaler was fitted with feature names\n",
            "  \"X does not have valid feature names, but\"\n"
          ]
        }
      ]
    },
    {
      "cell_type": "code",
      "source": [],
      "metadata": {
        "id": "IZAe4HbMXcP1"
      },
      "execution_count": 142,
      "outputs": []
    }
  ]
}