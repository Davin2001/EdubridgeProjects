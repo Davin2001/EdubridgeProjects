{
  "nbformat": 4,
  "nbformat_minor": 0,
  "metadata": {
    "colab": {
      "name": "Housepriceprediction(Github1).ipynb",
      "provenance": [],
      "collapsed_sections": []
    },
    "kernelspec": {
      "name": "python3",
      "display_name": "Python 3"
    },
    "language_info": {
      "name": "python"
    }
  },
  "cells": [
    {
      "cell_type": "markdown",
      "source": [
        "#We are applying machine learning algorithm to predict the price of house based on Features"
      ],
      "metadata": {
        "id": "eeUqTsFflho3"
      }
    },
    {
      "cell_type": "code",
      "source": [
        "#Impoting Libraries"
      ],
      "metadata": {
        "id": "-XkeAgi6JqSf"
      },
      "execution_count": 313,
      "outputs": []
    },
    {
      "cell_type": "code",
      "execution_count": 314,
      "metadata": {
        "id": "7UraHcjBXUB_"
      },
      "outputs": [],
      "source": [
        "import numpy as np\n",
        "import pandas as pd\n",
        "import matplotlib.pyplot as plt\n",
        "import seaborn as sns\n",
        "import math\n",
        "import statistics\n",
        "import os\n"
      ]
    },
    {
      "cell_type": "code",
      "source": [
        "# Load the data set of house price prediction\n"
      ],
      "metadata": {
        "id": "rVfor7-HXkW8"
      },
      "execution_count": 315,
      "outputs": []
    },
    {
      "cell_type": "code",
      "source": [
        "df = pd.read_csv(\"house_price.csv\", na_values = \"?\")"
      ],
      "metadata": {
        "id": "eZCySMkuXruL"
      },
      "execution_count": 316,
      "outputs": []
    },
    {
      "cell_type": "code",
      "source": [
        "#Information about the data "
      ],
      "metadata": {
        "id": "9sshInH-Jx2h"
      },
      "execution_count": 317,
      "outputs": []
    },
    {
      "cell_type": "code",
      "source": [
        "df.info()"
      ],
      "metadata": {
        "colab": {
          "base_uri": "https://localhost:8080/"
        },
        "id": "CY8SmvfuImBp",
        "outputId": "48f74021-9ea4-40a8-dbc0-40a1a7b690c6"
      },
      "execution_count": 318,
      "outputs": [
        {
          "output_type": "stream",
          "name": "stdout",
          "text": [
            "<class 'pandas.core.frame.DataFrame'>\n",
            "RangeIndex: 1000 entries, 0 to 999\n",
            "Data columns (total 7 columns):\n",
            " #   Column      Non-Null Count  Dtype \n",
            "---  ------      --------------  ----- \n",
            " 0   Location    1000 non-null   object\n",
            " 1   BHK         1000 non-null   int64 \n",
            " 2   Furnishing  1000 non-null   int64 \n",
            " 3   Sq.ft       1000 non-null   int64 \n",
            " 4   Old(years)  1000 non-null   int64 \n",
            " 5   Floor       1000 non-null   int64 \n",
            " 6   Price       1000 non-null   int64 \n",
            "dtypes: int64(6), object(1)\n",
            "memory usage: 54.8+ KB\n"
          ]
        }
      ]
    },
    {
      "cell_type": "code",
      "source": [
        "print(\"Unique Value of BHK :\" ,df['BHK'].unique())\n",
        "print(\"Unique value of  Location :\" ,df['Location'].unique())\n",
        "print(\"Unique Value of Furnishing :\",df['Furnishing'].unique())\n",
        "print(\"Unique Value of Floor :\",df['Floor'].unique())\n",
        "print(\"Unique Value of Old(years) :\",df['Old(years)'].unique())\n",
        "print(\"Unique Value of Sq.ft :\",df['Sq.ft'].unique())\n",
        "print(\"Unique Value of Price :\",df['Price'].unique())"
      ],
      "metadata": {
        "colab": {
          "base_uri": "https://localhost:8080/"
        },
        "id": "crFBf8XXmxtv",
        "outputId": "bec0fb52-8b7b-4251-d27d-f18fbfe34fdc"
      },
      "execution_count": 319,
      "outputs": [
        {
          "output_type": "stream",
          "name": "stdout",
          "text": [
            "Unique Value of BHK : [3 2]\n",
            "Unique value of  Location : ['Bommanahalli' 'Whitefield']\n",
            "Unique Value of Furnishing : [1 0]\n",
            "Unique Value of Floor : [ 3  0  9  1  8 10  7 13  2 12 11  4]\n",
            "Unique Value of Old(years) : [ 1 10  5]\n",
            "Unique Value of Sq.ft : [3000 1650 1000 1600 1200 1760 1870 2200 2100 1704 1326 1088 1744 1060\n",
            "  950 3155 1280 1033 1135 1471 2292 1290 1089 1250 1300 2180 1568 1768\n",
            " 1245 1251 1400 1500 1381  960 1675 2117 1333 1460  767 1050 1375]\n",
            "Unique Value of Price : [28000 18000 16400 27000 20000 39500 35000 42000 21000 14000 22000 16000\n",
            " 45000 23000 16500 39000 26000 15500 17000 24000 30000 25000 19000 19500\n",
            " 11000 33000]\n"
          ]
        }
      ]
    },
    {
      "cell_type": "code",
      "source": [
        "#shape of Data"
      ],
      "metadata": {
        "id": "FDdfD26jJ50w"
      },
      "execution_count": 320,
      "outputs": []
    },
    {
      "cell_type": "code",
      "source": [
        "df.shape"
      ],
      "metadata": {
        "colab": {
          "base_uri": "https://localhost:8080/"
        },
        "id": "cksVTHQSJ5Tc",
        "outputId": "7f3272a0-5c2c-4c8a-9fad-10cc78ce3b3e"
      },
      "execution_count": 321,
      "outputs": [
        {
          "output_type": "execute_result",
          "data": {
            "text/plain": [
              "(1000, 7)"
            ]
          },
          "metadata": {},
          "execution_count": 321
        }
      ]
    },
    {
      "cell_type": "code",
      "source": [
        "#statistical Information"
      ],
      "metadata": {
        "id": "KfEfqjCVJ-IQ"
      },
      "execution_count": 322,
      "outputs": []
    },
    {
      "cell_type": "code",
      "source": [
        "df.describe()"
      ],
      "metadata": {
        "colab": {
          "base_uri": "https://localhost:8080/",
          "height": 300
        },
        "id": "ToyrW3GxIow-",
        "outputId": "1ecf5034-3a93-44fc-a3f5-6a0cbe06b189"
      },
      "execution_count": 323,
      "outputs": [
        {
          "output_type": "execute_result",
          "data": {
            "text/plain": [
              "               BHK   Furnishing        Sq.ft   Old(years)        Floor  \\\n",
              "count  1000.000000  1000.000000  1000.000000  1000.000000  1000.000000   \n",
              "mean      2.436000     0.348000  1448.613000     4.029000     3.465000   \n",
              "std       0.496135     0.476574   491.272535     3.048845     3.245197   \n",
              "min       2.000000     0.000000   767.000000     1.000000     0.000000   \n",
              "25%       2.000000     0.000000  1089.000000     1.000000     1.000000   \n",
              "50%       2.000000     0.000000  1300.000000     5.000000     3.000000   \n",
              "75%       3.000000     1.000000  1650.000000     5.000000     3.000000   \n",
              "max       3.000000     1.000000  3155.000000    10.000000    13.000000   \n",
              "\n",
              "              Price  \n",
              "count   1000.000000  \n",
              "mean   22829.900000  \n",
              "std     7706.410627  \n",
              "min    11000.000000  \n",
              "25%    16500.000000  \n",
              "50%    21000.000000  \n",
              "75%    26000.000000  \n",
              "max    45000.000000  "
            ],
            "text/html": [
              "\n",
              "  <div id=\"df-a6ad59ad-436d-417c-8e9a-d52a4b52073a\">\n",
              "    <div class=\"colab-df-container\">\n",
              "      <div>\n",
              "<style scoped>\n",
              "    .dataframe tbody tr th:only-of-type {\n",
              "        vertical-align: middle;\n",
              "    }\n",
              "\n",
              "    .dataframe tbody tr th {\n",
              "        vertical-align: top;\n",
              "    }\n",
              "\n",
              "    .dataframe thead th {\n",
              "        text-align: right;\n",
              "    }\n",
              "</style>\n",
              "<table border=\"1\" class=\"dataframe\">\n",
              "  <thead>\n",
              "    <tr style=\"text-align: right;\">\n",
              "      <th></th>\n",
              "      <th>BHK</th>\n",
              "      <th>Furnishing</th>\n",
              "      <th>Sq.ft</th>\n",
              "      <th>Old(years)</th>\n",
              "      <th>Floor</th>\n",
              "      <th>Price</th>\n",
              "    </tr>\n",
              "  </thead>\n",
              "  <tbody>\n",
              "    <tr>\n",
              "      <th>count</th>\n",
              "      <td>1000.000000</td>\n",
              "      <td>1000.000000</td>\n",
              "      <td>1000.000000</td>\n",
              "      <td>1000.000000</td>\n",
              "      <td>1000.000000</td>\n",
              "      <td>1000.000000</td>\n",
              "    </tr>\n",
              "    <tr>\n",
              "      <th>mean</th>\n",
              "      <td>2.436000</td>\n",
              "      <td>0.348000</td>\n",
              "      <td>1448.613000</td>\n",
              "      <td>4.029000</td>\n",
              "      <td>3.465000</td>\n",
              "      <td>22829.900000</td>\n",
              "    </tr>\n",
              "    <tr>\n",
              "      <th>std</th>\n",
              "      <td>0.496135</td>\n",
              "      <td>0.476574</td>\n",
              "      <td>491.272535</td>\n",
              "      <td>3.048845</td>\n",
              "      <td>3.245197</td>\n",
              "      <td>7706.410627</td>\n",
              "    </tr>\n",
              "    <tr>\n",
              "      <th>min</th>\n",
              "      <td>2.000000</td>\n",
              "      <td>0.000000</td>\n",
              "      <td>767.000000</td>\n",
              "      <td>1.000000</td>\n",
              "      <td>0.000000</td>\n",
              "      <td>11000.000000</td>\n",
              "    </tr>\n",
              "    <tr>\n",
              "      <th>25%</th>\n",
              "      <td>2.000000</td>\n",
              "      <td>0.000000</td>\n",
              "      <td>1089.000000</td>\n",
              "      <td>1.000000</td>\n",
              "      <td>1.000000</td>\n",
              "      <td>16500.000000</td>\n",
              "    </tr>\n",
              "    <tr>\n",
              "      <th>50%</th>\n",
              "      <td>2.000000</td>\n",
              "      <td>0.000000</td>\n",
              "      <td>1300.000000</td>\n",
              "      <td>5.000000</td>\n",
              "      <td>3.000000</td>\n",
              "      <td>21000.000000</td>\n",
              "    </tr>\n",
              "    <tr>\n",
              "      <th>75%</th>\n",
              "      <td>3.000000</td>\n",
              "      <td>1.000000</td>\n",
              "      <td>1650.000000</td>\n",
              "      <td>5.000000</td>\n",
              "      <td>3.000000</td>\n",
              "      <td>26000.000000</td>\n",
              "    </tr>\n",
              "    <tr>\n",
              "      <th>max</th>\n",
              "      <td>3.000000</td>\n",
              "      <td>1.000000</td>\n",
              "      <td>3155.000000</td>\n",
              "      <td>10.000000</td>\n",
              "      <td>13.000000</td>\n",
              "      <td>45000.000000</td>\n",
              "    </tr>\n",
              "  </tbody>\n",
              "</table>\n",
              "</div>\n",
              "      <button class=\"colab-df-convert\" onclick=\"convertToInteractive('df-a6ad59ad-436d-417c-8e9a-d52a4b52073a')\"\n",
              "              title=\"Convert this dataframe to an interactive table.\"\n",
              "              style=\"display:none;\">\n",
              "        \n",
              "  <svg xmlns=\"http://www.w3.org/2000/svg\" height=\"24px\"viewBox=\"0 0 24 24\"\n",
              "       width=\"24px\">\n",
              "    <path d=\"M0 0h24v24H0V0z\" fill=\"none\"/>\n",
              "    <path d=\"M18.56 5.44l.94 2.06.94-2.06 2.06-.94-2.06-.94-.94-2.06-.94 2.06-2.06.94zm-11 1L8.5 8.5l.94-2.06 2.06-.94-2.06-.94L8.5 2.5l-.94 2.06-2.06.94zm10 10l.94 2.06.94-2.06 2.06-.94-2.06-.94-.94-2.06-.94 2.06-2.06.94z\"/><path d=\"M17.41 7.96l-1.37-1.37c-.4-.4-.92-.59-1.43-.59-.52 0-1.04.2-1.43.59L10.3 9.45l-7.72 7.72c-.78.78-.78 2.05 0 2.83L4 21.41c.39.39.9.59 1.41.59.51 0 1.02-.2 1.41-.59l7.78-7.78 2.81-2.81c.8-.78.8-2.07 0-2.86zM5.41 20L4 18.59l7.72-7.72 1.47 1.35L5.41 20z\"/>\n",
              "  </svg>\n",
              "      </button>\n",
              "      \n",
              "  <style>\n",
              "    .colab-df-container {\n",
              "      display:flex;\n",
              "      flex-wrap:wrap;\n",
              "      gap: 12px;\n",
              "    }\n",
              "\n",
              "    .colab-df-convert {\n",
              "      background-color: #E8F0FE;\n",
              "      border: none;\n",
              "      border-radius: 50%;\n",
              "      cursor: pointer;\n",
              "      display: none;\n",
              "      fill: #1967D2;\n",
              "      height: 32px;\n",
              "      padding: 0 0 0 0;\n",
              "      width: 32px;\n",
              "    }\n",
              "\n",
              "    .colab-df-convert:hover {\n",
              "      background-color: #E2EBFA;\n",
              "      box-shadow: 0px 1px 2px rgba(60, 64, 67, 0.3), 0px 1px 3px 1px rgba(60, 64, 67, 0.15);\n",
              "      fill: #174EA6;\n",
              "    }\n",
              "\n",
              "    [theme=dark] .colab-df-convert {\n",
              "      background-color: #3B4455;\n",
              "      fill: #D2E3FC;\n",
              "    }\n",
              "\n",
              "    [theme=dark] .colab-df-convert:hover {\n",
              "      background-color: #434B5C;\n",
              "      box-shadow: 0px 1px 3px 1px rgba(0, 0, 0, 0.15);\n",
              "      filter: drop-shadow(0px 1px 2px rgba(0, 0, 0, 0.3));\n",
              "      fill: #FFFFFF;\n",
              "    }\n",
              "  </style>\n",
              "\n",
              "      <script>\n",
              "        const buttonEl =\n",
              "          document.querySelector('#df-a6ad59ad-436d-417c-8e9a-d52a4b52073a button.colab-df-convert');\n",
              "        buttonEl.style.display =\n",
              "          google.colab.kernel.accessAllowed ? 'block' : 'none';\n",
              "\n",
              "        async function convertToInteractive(key) {\n",
              "          const element = document.querySelector('#df-a6ad59ad-436d-417c-8e9a-d52a4b52073a');\n",
              "          const dataTable =\n",
              "            await google.colab.kernel.invokeFunction('convertToInteractive',\n",
              "                                                     [key], {});\n",
              "          if (!dataTable) return;\n",
              "\n",
              "          const docLinkHtml = 'Like what you see? Visit the ' +\n",
              "            '<a target=\"_blank\" href=https://colab.research.google.com/notebooks/data_table.ipynb>data table notebook</a>'\n",
              "            + ' to learn more about interactive tables.';\n",
              "          element.innerHTML = '';\n",
              "          dataTable['output_type'] = 'display_data';\n",
              "          await google.colab.output.renderOutput(dataTable, element);\n",
              "          const docLink = document.createElement('div');\n",
              "          docLink.innerHTML = docLinkHtml;\n",
              "          element.appendChild(docLink);\n",
              "        }\n",
              "      </script>\n",
              "    </div>\n",
              "  </div>\n",
              "  "
            ]
          },
          "metadata": {},
          "execution_count": 323
        }
      ]
    },
    {
      "cell_type": "code",
      "source": [
        "df.head()"
      ],
      "metadata": {
        "colab": {
          "base_uri": "https://localhost:8080/",
          "height": 206
        },
        "id": "LK6BmhAWa4Hx",
        "outputId": "4f5f7edc-9e9a-45c5-b53c-91cc465061cf"
      },
      "execution_count": 324,
      "outputs": [
        {
          "output_type": "execute_result",
          "data": {
            "text/plain": [
              "       Location  BHK  Furnishing  Sq.ft  Old(years)  Floor  Price\n",
              "0  Bommanahalli    3           1   3000           1      3  28000\n",
              "1  Bommanahalli    3           1   1650          10      0  18000\n",
              "2    Whitefield    2           0   1000           5      3  16400\n",
              "3    Whitefield    3           0   1600           1      9  27000\n",
              "4    Whitefield    2           1   1200           5      1  20000"
            ],
            "text/html": [
              "\n",
              "  <div id=\"df-5c557803-2fb2-49de-941a-3a4e961767dd\">\n",
              "    <div class=\"colab-df-container\">\n",
              "      <div>\n",
              "<style scoped>\n",
              "    .dataframe tbody tr th:only-of-type {\n",
              "        vertical-align: middle;\n",
              "    }\n",
              "\n",
              "    .dataframe tbody tr th {\n",
              "        vertical-align: top;\n",
              "    }\n",
              "\n",
              "    .dataframe thead th {\n",
              "        text-align: right;\n",
              "    }\n",
              "</style>\n",
              "<table border=\"1\" class=\"dataframe\">\n",
              "  <thead>\n",
              "    <tr style=\"text-align: right;\">\n",
              "      <th></th>\n",
              "      <th>Location</th>\n",
              "      <th>BHK</th>\n",
              "      <th>Furnishing</th>\n",
              "      <th>Sq.ft</th>\n",
              "      <th>Old(years)</th>\n",
              "      <th>Floor</th>\n",
              "      <th>Price</th>\n",
              "    </tr>\n",
              "  </thead>\n",
              "  <tbody>\n",
              "    <tr>\n",
              "      <th>0</th>\n",
              "      <td>Bommanahalli</td>\n",
              "      <td>3</td>\n",
              "      <td>1</td>\n",
              "      <td>3000</td>\n",
              "      <td>1</td>\n",
              "      <td>3</td>\n",
              "      <td>28000</td>\n",
              "    </tr>\n",
              "    <tr>\n",
              "      <th>1</th>\n",
              "      <td>Bommanahalli</td>\n",
              "      <td>3</td>\n",
              "      <td>1</td>\n",
              "      <td>1650</td>\n",
              "      <td>10</td>\n",
              "      <td>0</td>\n",
              "      <td>18000</td>\n",
              "    </tr>\n",
              "    <tr>\n",
              "      <th>2</th>\n",
              "      <td>Whitefield</td>\n",
              "      <td>2</td>\n",
              "      <td>0</td>\n",
              "      <td>1000</td>\n",
              "      <td>5</td>\n",
              "      <td>3</td>\n",
              "      <td>16400</td>\n",
              "    </tr>\n",
              "    <tr>\n",
              "      <th>3</th>\n",
              "      <td>Whitefield</td>\n",
              "      <td>3</td>\n",
              "      <td>0</td>\n",
              "      <td>1600</td>\n",
              "      <td>1</td>\n",
              "      <td>9</td>\n",
              "      <td>27000</td>\n",
              "    </tr>\n",
              "    <tr>\n",
              "      <th>4</th>\n",
              "      <td>Whitefield</td>\n",
              "      <td>2</td>\n",
              "      <td>1</td>\n",
              "      <td>1200</td>\n",
              "      <td>5</td>\n",
              "      <td>1</td>\n",
              "      <td>20000</td>\n",
              "    </tr>\n",
              "  </tbody>\n",
              "</table>\n",
              "</div>\n",
              "      <button class=\"colab-df-convert\" onclick=\"convertToInteractive('df-5c557803-2fb2-49de-941a-3a4e961767dd')\"\n",
              "              title=\"Convert this dataframe to an interactive table.\"\n",
              "              style=\"display:none;\">\n",
              "        \n",
              "  <svg xmlns=\"http://www.w3.org/2000/svg\" height=\"24px\"viewBox=\"0 0 24 24\"\n",
              "       width=\"24px\">\n",
              "    <path d=\"M0 0h24v24H0V0z\" fill=\"none\"/>\n",
              "    <path d=\"M18.56 5.44l.94 2.06.94-2.06 2.06-.94-2.06-.94-.94-2.06-.94 2.06-2.06.94zm-11 1L8.5 8.5l.94-2.06 2.06-.94-2.06-.94L8.5 2.5l-.94 2.06-2.06.94zm10 10l.94 2.06.94-2.06 2.06-.94-2.06-.94-.94-2.06-.94 2.06-2.06.94z\"/><path d=\"M17.41 7.96l-1.37-1.37c-.4-.4-.92-.59-1.43-.59-.52 0-1.04.2-1.43.59L10.3 9.45l-7.72 7.72c-.78.78-.78 2.05 0 2.83L4 21.41c.39.39.9.59 1.41.59.51 0 1.02-.2 1.41-.59l7.78-7.78 2.81-2.81c.8-.78.8-2.07 0-2.86zM5.41 20L4 18.59l7.72-7.72 1.47 1.35L5.41 20z\"/>\n",
              "  </svg>\n",
              "      </button>\n",
              "      \n",
              "  <style>\n",
              "    .colab-df-container {\n",
              "      display:flex;\n",
              "      flex-wrap:wrap;\n",
              "      gap: 12px;\n",
              "    }\n",
              "\n",
              "    .colab-df-convert {\n",
              "      background-color: #E8F0FE;\n",
              "      border: none;\n",
              "      border-radius: 50%;\n",
              "      cursor: pointer;\n",
              "      display: none;\n",
              "      fill: #1967D2;\n",
              "      height: 32px;\n",
              "      padding: 0 0 0 0;\n",
              "      width: 32px;\n",
              "    }\n",
              "\n",
              "    .colab-df-convert:hover {\n",
              "      background-color: #E2EBFA;\n",
              "      box-shadow: 0px 1px 2px rgba(60, 64, 67, 0.3), 0px 1px 3px 1px rgba(60, 64, 67, 0.15);\n",
              "      fill: #174EA6;\n",
              "    }\n",
              "\n",
              "    [theme=dark] .colab-df-convert {\n",
              "      background-color: #3B4455;\n",
              "      fill: #D2E3FC;\n",
              "    }\n",
              "\n",
              "    [theme=dark] .colab-df-convert:hover {\n",
              "      background-color: #434B5C;\n",
              "      box-shadow: 0px 1px 3px 1px rgba(0, 0, 0, 0.15);\n",
              "      filter: drop-shadow(0px 1px 2px rgba(0, 0, 0, 0.3));\n",
              "      fill: #FFFFFF;\n",
              "    }\n",
              "  </style>\n",
              "\n",
              "      <script>\n",
              "        const buttonEl =\n",
              "          document.querySelector('#df-5c557803-2fb2-49de-941a-3a4e961767dd button.colab-df-convert');\n",
              "        buttonEl.style.display =\n",
              "          google.colab.kernel.accessAllowed ? 'block' : 'none';\n",
              "\n",
              "        async function convertToInteractive(key) {\n",
              "          const element = document.querySelector('#df-5c557803-2fb2-49de-941a-3a4e961767dd');\n",
              "          const dataTable =\n",
              "            await google.colab.kernel.invokeFunction('convertToInteractive',\n",
              "                                                     [key], {});\n",
              "          if (!dataTable) return;\n",
              "\n",
              "          const docLinkHtml = 'Like what you see? Visit the ' +\n",
              "            '<a target=\"_blank\" href=https://colab.research.google.com/notebooks/data_table.ipynb>data table notebook</a>'\n",
              "            + ' to learn more about interactive tables.';\n",
              "          element.innerHTML = '';\n",
              "          dataTable['output_type'] = 'display_data';\n",
              "          await google.colab.output.renderOutput(dataTable, element);\n",
              "          const docLink = document.createElement('div');\n",
              "          docLink.innerHTML = docLinkHtml;\n",
              "          element.appendChild(docLink);\n",
              "        }\n",
              "      </script>\n",
              "    </div>\n",
              "  </div>\n",
              "  "
            ]
          },
          "metadata": {},
          "execution_count": 324
        }
      ]
    },
    {
      "cell_type": "code",
      "source": [],
      "metadata": {
        "id": "rvK9kiIfa8Sf"
      },
      "execution_count": 324,
      "outputs": []
    },
    {
      "cell_type": "code",
      "source": [
        "#Checking if the Dataset contains Nullvalues"
      ],
      "metadata": {
        "id": "Hz3pE9aSI8yv"
      },
      "execution_count": 325,
      "outputs": []
    },
    {
      "cell_type": "code",
      "source": [
        "print(\"Missing Values by Column\")\n",
        "print(\"-\"*30)\n",
        "print(df.isna().sum())\n",
        "print(\"-\"*30)\n",
        "print(\"Total Missing Values\",df.isna().sum().sum())"
      ],
      "metadata": {
        "colab": {
          "base_uri": "https://localhost:8080/"
        },
        "id": "eTsNSQDhX3qi",
        "outputId": "9860d81e-e5c3-4253-d300-c24ab8c47171"
      },
      "execution_count": 326,
      "outputs": [
        {
          "output_type": "stream",
          "name": "stdout",
          "text": [
            "Missing Values by Column\n",
            "------------------------------\n",
            "Location      0\n",
            "BHK           0\n",
            "Furnishing    0\n",
            "Sq.ft         0\n",
            "Old(years)    0\n",
            "Floor         0\n",
            "Price         0\n",
            "dtype: int64\n",
            "------------------------------\n",
            "Total Missing Values 0\n"
          ]
        }
      ]
    },
    {
      "cell_type": "code",
      "source": [
        "#Identify The data types of Variables"
      ],
      "metadata": {
        "id": "MZ54Mo0nKXOD"
      },
      "execution_count": 327,
      "outputs": []
    },
    {
      "cell_type": "code",
      "source": [
        "df.dtypes"
      ],
      "metadata": {
        "colab": {
          "base_uri": "https://localhost:8080/"
        },
        "id": "LBJh0g53Yrju",
        "outputId": "050d210f-475e-42b9-8fee-5a1285a93c08"
      },
      "execution_count": 328,
      "outputs": [
        {
          "output_type": "execute_result",
          "data": {
            "text/plain": [
              "Location      object\n",
              "BHK            int64\n",
              "Furnishing     int64\n",
              "Sq.ft          int64\n",
              "Old(years)     int64\n",
              "Floor          int64\n",
              "Price          int64\n",
              "dtype: object"
            ]
          },
          "metadata": {},
          "execution_count": 328
        }
      ]
    },
    {
      "cell_type": "code",
      "source": [
        "#Correlation and covariance\n"
      ],
      "metadata": {
        "id": "qdeSC1CpZEpt"
      },
      "execution_count": 329,
      "outputs": []
    },
    {
      "cell_type": "code",
      "source": [
        "df.corr()"
      ],
      "metadata": {
        "colab": {
          "base_uri": "https://localhost:8080/",
          "height": 237
        },
        "id": "QSG9TDOdKi_B",
        "outputId": "42472884-86a9-4411-855e-fa761026db8e"
      },
      "execution_count": 330,
      "outputs": [
        {
          "output_type": "execute_result",
          "data": {
            "text/plain": [
              "                 BHK  Furnishing     Sq.ft  Old(years)     Floor     Price\n",
              "BHK         1.000000    0.136625  0.689055   -0.186380  0.337754  0.633094\n",
              "Furnishing  0.136625    1.000000  0.042385    0.091563 -0.078199  0.018996\n",
              "Sq.ft       0.689055    0.042385  1.000000   -0.258306  0.376009  0.831104\n",
              "Old(years) -0.186380    0.091563 -0.258306    1.000000 -0.197940 -0.304325\n",
              "Floor       0.337754   -0.078199  0.376009   -0.197940  1.000000  0.599192\n",
              "Price       0.633094    0.018996  0.831104   -0.304325  0.599192  1.000000"
            ],
            "text/html": [
              "\n",
              "  <div id=\"df-1822ae54-ba31-4003-8eab-8d18ede8ed56\">\n",
              "    <div class=\"colab-df-container\">\n",
              "      <div>\n",
              "<style scoped>\n",
              "    .dataframe tbody tr th:only-of-type {\n",
              "        vertical-align: middle;\n",
              "    }\n",
              "\n",
              "    .dataframe tbody tr th {\n",
              "        vertical-align: top;\n",
              "    }\n",
              "\n",
              "    .dataframe thead th {\n",
              "        text-align: right;\n",
              "    }\n",
              "</style>\n",
              "<table border=\"1\" class=\"dataframe\">\n",
              "  <thead>\n",
              "    <tr style=\"text-align: right;\">\n",
              "      <th></th>\n",
              "      <th>BHK</th>\n",
              "      <th>Furnishing</th>\n",
              "      <th>Sq.ft</th>\n",
              "      <th>Old(years)</th>\n",
              "      <th>Floor</th>\n",
              "      <th>Price</th>\n",
              "    </tr>\n",
              "  </thead>\n",
              "  <tbody>\n",
              "    <tr>\n",
              "      <th>BHK</th>\n",
              "      <td>1.000000</td>\n",
              "      <td>0.136625</td>\n",
              "      <td>0.689055</td>\n",
              "      <td>-0.186380</td>\n",
              "      <td>0.337754</td>\n",
              "      <td>0.633094</td>\n",
              "    </tr>\n",
              "    <tr>\n",
              "      <th>Furnishing</th>\n",
              "      <td>0.136625</td>\n",
              "      <td>1.000000</td>\n",
              "      <td>0.042385</td>\n",
              "      <td>0.091563</td>\n",
              "      <td>-0.078199</td>\n",
              "      <td>0.018996</td>\n",
              "    </tr>\n",
              "    <tr>\n",
              "      <th>Sq.ft</th>\n",
              "      <td>0.689055</td>\n",
              "      <td>0.042385</td>\n",
              "      <td>1.000000</td>\n",
              "      <td>-0.258306</td>\n",
              "      <td>0.376009</td>\n",
              "      <td>0.831104</td>\n",
              "    </tr>\n",
              "    <tr>\n",
              "      <th>Old(years)</th>\n",
              "      <td>-0.186380</td>\n",
              "      <td>0.091563</td>\n",
              "      <td>-0.258306</td>\n",
              "      <td>1.000000</td>\n",
              "      <td>-0.197940</td>\n",
              "      <td>-0.304325</td>\n",
              "    </tr>\n",
              "    <tr>\n",
              "      <th>Floor</th>\n",
              "      <td>0.337754</td>\n",
              "      <td>-0.078199</td>\n",
              "      <td>0.376009</td>\n",
              "      <td>-0.197940</td>\n",
              "      <td>1.000000</td>\n",
              "      <td>0.599192</td>\n",
              "    </tr>\n",
              "    <tr>\n",
              "      <th>Price</th>\n",
              "      <td>0.633094</td>\n",
              "      <td>0.018996</td>\n",
              "      <td>0.831104</td>\n",
              "      <td>-0.304325</td>\n",
              "      <td>0.599192</td>\n",
              "      <td>1.000000</td>\n",
              "    </tr>\n",
              "  </tbody>\n",
              "</table>\n",
              "</div>\n",
              "      <button class=\"colab-df-convert\" onclick=\"convertToInteractive('df-1822ae54-ba31-4003-8eab-8d18ede8ed56')\"\n",
              "              title=\"Convert this dataframe to an interactive table.\"\n",
              "              style=\"display:none;\">\n",
              "        \n",
              "  <svg xmlns=\"http://www.w3.org/2000/svg\" height=\"24px\"viewBox=\"0 0 24 24\"\n",
              "       width=\"24px\">\n",
              "    <path d=\"M0 0h24v24H0V0z\" fill=\"none\"/>\n",
              "    <path d=\"M18.56 5.44l.94 2.06.94-2.06 2.06-.94-2.06-.94-.94-2.06-.94 2.06-2.06.94zm-11 1L8.5 8.5l.94-2.06 2.06-.94-2.06-.94L8.5 2.5l-.94 2.06-2.06.94zm10 10l.94 2.06.94-2.06 2.06-.94-2.06-.94-.94-2.06-.94 2.06-2.06.94z\"/><path d=\"M17.41 7.96l-1.37-1.37c-.4-.4-.92-.59-1.43-.59-.52 0-1.04.2-1.43.59L10.3 9.45l-7.72 7.72c-.78.78-.78 2.05 0 2.83L4 21.41c.39.39.9.59 1.41.59.51 0 1.02-.2 1.41-.59l7.78-7.78 2.81-2.81c.8-.78.8-2.07 0-2.86zM5.41 20L4 18.59l7.72-7.72 1.47 1.35L5.41 20z\"/>\n",
              "  </svg>\n",
              "      </button>\n",
              "      \n",
              "  <style>\n",
              "    .colab-df-container {\n",
              "      display:flex;\n",
              "      flex-wrap:wrap;\n",
              "      gap: 12px;\n",
              "    }\n",
              "\n",
              "    .colab-df-convert {\n",
              "      background-color: #E8F0FE;\n",
              "      border: none;\n",
              "      border-radius: 50%;\n",
              "      cursor: pointer;\n",
              "      display: none;\n",
              "      fill: #1967D2;\n",
              "      height: 32px;\n",
              "      padding: 0 0 0 0;\n",
              "      width: 32px;\n",
              "    }\n",
              "\n",
              "    .colab-df-convert:hover {\n",
              "      background-color: #E2EBFA;\n",
              "      box-shadow: 0px 1px 2px rgba(60, 64, 67, 0.3), 0px 1px 3px 1px rgba(60, 64, 67, 0.15);\n",
              "      fill: #174EA6;\n",
              "    }\n",
              "\n",
              "    [theme=dark] .colab-df-convert {\n",
              "      background-color: #3B4455;\n",
              "      fill: #D2E3FC;\n",
              "    }\n",
              "\n",
              "    [theme=dark] .colab-df-convert:hover {\n",
              "      background-color: #434B5C;\n",
              "      box-shadow: 0px 1px 3px 1px rgba(0, 0, 0, 0.15);\n",
              "      filter: drop-shadow(0px 1px 2px rgba(0, 0, 0, 0.3));\n",
              "      fill: #FFFFFF;\n",
              "    }\n",
              "  </style>\n",
              "\n",
              "      <script>\n",
              "        const buttonEl =\n",
              "          document.querySelector('#df-1822ae54-ba31-4003-8eab-8d18ede8ed56 button.colab-df-convert');\n",
              "        buttonEl.style.display =\n",
              "          google.colab.kernel.accessAllowed ? 'block' : 'none';\n",
              "\n",
              "        async function convertToInteractive(key) {\n",
              "          const element = document.querySelector('#df-1822ae54-ba31-4003-8eab-8d18ede8ed56');\n",
              "          const dataTable =\n",
              "            await google.colab.kernel.invokeFunction('convertToInteractive',\n",
              "                                                     [key], {});\n",
              "          if (!dataTable) return;\n",
              "\n",
              "          const docLinkHtml = 'Like what you see? Visit the ' +\n",
              "            '<a target=\"_blank\" href=https://colab.research.google.com/notebooks/data_table.ipynb>data table notebook</a>'\n",
              "            + ' to learn more about interactive tables.';\n",
              "          element.innerHTML = '';\n",
              "          dataTable['output_type'] = 'display_data';\n",
              "          await google.colab.output.renderOutput(dataTable, element);\n",
              "          const docLink = document.createElement('div');\n",
              "          docLink.innerHTML = docLinkHtml;\n",
              "          element.appendChild(docLink);\n",
              "        }\n",
              "      </script>\n",
              "    </div>\n",
              "  </div>\n",
              "  "
            ]
          },
          "metadata": {},
          "execution_count": 330
        }
      ]
    },
    {
      "cell_type": "code",
      "source": [
        "#Visualize the correlation in dataset"
      ],
      "metadata": {
        "id": "VBfERU9RKnic"
      },
      "execution_count": 331,
      "outputs": []
    },
    {
      "cell_type": "code",
      "source": [
        "plt.figure(figsize= (8,8))\n",
        "\n",
        "sns.heatmap(df.corr(), cmap=\"YlGnBu\")\n",
        "plt.title(\"Correlation between two variable\", size=15)"
      ],
      "metadata": {
        "colab": {
          "base_uri": "https://localhost:8080/",
          "height": 518
        },
        "id": "mPF5xuDbYB-J",
        "outputId": "172b486e-f83b-4944-9a02-ff7851caee6e"
      },
      "execution_count": 332,
      "outputs": [
        {
          "output_type": "execute_result",
          "data": {
            "text/plain": [
              "Text(0.5, 1.0, 'Correlation between two variable')"
            ]
          },
          "metadata": {},
          "execution_count": 332
        },
        {
          "output_type": "display_data",
          "data": {
            "text/plain": [
              "<Figure size 576x576 with 2 Axes>"
            ],
            "image/png": "[encoded data removed]"
          },
          "metadata": {
            "needs_background": "light"
          }
        }
      ]
    },
    {
      "cell_type": "code",
      "source": [
        "df.cov()"
      ],
      "metadata": {
        "colab": {
          "base_uri": "https://localhost:8080/",
          "height": 237
        },
        "id": "2tdAkoq_Ku_q",
        "outputId": "e6706fd7-4aba-443b-aa6c-c7280d6bc4f7"
      },
      "execution_count": 333,
      "outputs": [
        {
          "output_type": "execute_result",
          "data": {
            "text/plain": [
              "                    BHK  Furnishing         Sq.ft   Old(years)         Floor  \\\n",
              "BHK            0.246150    0.032304  1.679487e+02    -0.281926      0.543804   \n",
              "Furnishing     0.032304    0.227123  9.923600e+00     0.133041     -0.120941   \n",
              "Sq.ft        167.948681    9.923600  2.413487e+05  -386.894672    599.462417   \n",
              "Old(years)    -0.281926    0.133041 -3.868947e+02     9.295454     -1.958443   \n",
              "Floor          0.543804   -0.120941  5.994624e+02    -1.958443     10.531306   \n",
              "Price       2420.584184   69.764565  3.146516e+06 -7150.317417  14985.081582   \n",
              "\n",
              "                   Price  \n",
              "BHK         2.420584e+03  \n",
              "Furnishing  6.976456e+01  \n",
              "Sq.ft       3.146516e+06  \n",
              "Old(years) -7.150317e+03  \n",
              "Floor       1.498508e+04  \n",
              "Price       5.938876e+07  "
            ],
            "text/html": [
              "\n",
              "  <div id=\"df-00bcfa16-a71e-404c-b1eb-96cb6ddb7132\">\n",
              "    <div class=\"colab-df-container\">\n",
              "      <div>\n",
              "<style scoped>\n",
              "    .dataframe tbody tr th:only-of-type {\n",
              "        vertical-align: middle;\n",
              "    }\n",
              "\n",
              "    .dataframe tbody tr th {\n",
              "        vertical-align: top;\n",
              "    }\n",
              "\n",
              "    .dataframe thead th {\n",
              "        text-align: right;\n",
              "    }\n",
              "</style>\n",
              "<table border=\"1\" class=\"dataframe\">\n",
              "  <thead>\n",
              "    <tr style=\"text-align: right;\">\n",
              "      <th></th>\n",
              "      <th>BHK</th>\n",
              "      <th>Furnishing</th>\n",
              "      <th>Sq.ft</th>\n",
              "      <th>Old(years)</th>\n",
              "      <th>Floor</th>\n",
              "      <th>Price</th>\n",
              "    </tr>\n",
              "  </thead>\n",
              "  <tbody>\n",
              "    <tr>\n",
              "      <th>BHK</th>\n",
              "      <td>0.246150</td>\n",
              "      <td>0.032304</td>\n",
              "      <td>1.679487e+02</td>\n",
              "      <td>-0.281926</td>\n",
              "      <td>0.543804</td>\n",
              "      <td>2.420584e+03</td>\n",
              "    </tr>\n",
              "    <tr>\n",
              "      <th>Furnishing</th>\n",
              "      <td>0.032304</td>\n",
              "      <td>0.227123</td>\n",
              "      <td>9.923600e+00</td>\n",
              "      <td>0.133041</td>\n",
              "      <td>-0.120941</td>\n",
              "      <td>6.976456e+01</td>\n",
              "    </tr>\n",
              "    <tr>\n",
              "      <th>Sq.ft</th>\n",
              "      <td>167.948681</td>\n",
              "      <td>9.923600</td>\n",
              "      <td>2.413487e+05</td>\n",
              "      <td>-386.894672</td>\n",
              "      <td>599.462417</td>\n",
              "      <td>3.146516e+06</td>\n",
              "    </tr>\n",
              "    <tr>\n",
              "      <th>Old(years)</th>\n",
              "      <td>-0.281926</td>\n",
              "      <td>0.133041</td>\n",
              "      <td>-3.868947e+02</td>\n",
              "      <td>9.295454</td>\n",
              "      <td>-1.958443</td>\n",
              "      <td>-7.150317e+03</td>\n",
              "    </tr>\n",
              "    <tr>\n",
              "      <th>Floor</th>\n",
              "      <td>0.543804</td>\n",
              "      <td>-0.120941</td>\n",
              "      <td>5.994624e+02</td>\n",
              "      <td>-1.958443</td>\n",
              "      <td>10.531306</td>\n",
              "      <td>1.498508e+04</td>\n",
              "    </tr>\n",
              "    <tr>\n",
              "      <th>Price</th>\n",
              "      <td>2420.584184</td>\n",
              "      <td>69.764565</td>\n",
              "      <td>3.146516e+06</td>\n",
              "      <td>-7150.317417</td>\n",
              "      <td>14985.081582</td>\n",
              "      <td>5.938876e+07</td>\n",
              "    </tr>\n",
              "  </tbody>\n",
              "</table>\n",
              "</div>\n",
              "      <button class=\"colab-df-convert\" onclick=\"convertToInteractive('df-00bcfa16-a71e-404c-b1eb-96cb6ddb7132')\"\n",
              "              title=\"Convert this dataframe to an interactive table.\"\n",
              "              style=\"display:none;\">\n",
              "        \n",
              "  <svg xmlns=\"http://www.w3.org/2000/svg\" height=\"24px\"viewBox=\"0 0 24 24\"\n",
              "       width=\"24px\">\n",
              "    <path d=\"M0 0h24v24H0V0z\" fill=\"none\"/>\n",
              "    <path d=\"M18.56 5.44l.94 2.06.94-2.06 2.06-.94-2.06-.94-.94-2.06-.94 2.06-2.06.94zm-11 1L8.5 8.5l.94-2.06 2.06-.94-2.06-.94L8.5 2.5l-.94 2.06-2.06.94zm10 10l.94 2.06.94-2.06 2.06-.94-2.06-.94-.94-2.06-.94 2.06-2.06.94z\"/><path d=\"M17.41 7.96l-1.37-1.37c-.4-.4-.92-.59-1.43-.59-.52 0-1.04.2-1.43.59L10.3 9.45l-7.72 7.72c-.78.78-.78 2.05 0 2.83L4 21.41c.39.39.9.59 1.41.59.51 0 1.02-.2 1.41-.59l7.78-7.78 2.81-2.81c.8-.78.8-2.07 0-2.86zM5.41 20L4 18.59l7.72-7.72 1.47 1.35L5.41 20z\"/>\n",
              "  </svg>\n",
              "      </button>\n",
              "      \n",
              "  <style>\n",
              "    .colab-df-container {\n",
              "      display:flex;\n",
              "      flex-wrap:wrap;\n",
              "      gap: 12px;\n",
              "    }\n",
              "\n",
              "    .colab-df-convert {\n",
              "      background-color: #E8F0FE;\n",
              "      border: none;\n",
              "      border-radius: 50%;\n",
              "      cursor: pointer;\n",
              "      display: none;\n",
              "      fill: #1967D2;\n",
              "      height: 32px;\n",
              "      padding: 0 0 0 0;\n",
              "      width: 32px;\n",
              "    }\n",
              "\n",
              "    .colab-df-convert:hover {\n",
              "      background-color: #E2EBFA;\n",
              "      box-shadow: 0px 1px 2px rgba(60, 64, 67, 0.3), 0px 1px 3px 1px rgba(60, 64, 67, 0.15);\n",
              "      fill: #174EA6;\n",
              "    }\n",
              "\n",
              "    [theme=dark] .colab-df-convert {\n",
              "      background-color: #3B4455;\n",
              "      fill: #D2E3FC;\n",
              "    }\n",
              "\n",
              "    [theme=dark] .colab-df-convert:hover {\n",
              "      background-color: #434B5C;\n",
              "      box-shadow: 0px 1px 3px 1px rgba(0, 0, 0, 0.15);\n",
              "      filter: drop-shadow(0px 1px 2px rgba(0, 0, 0, 0.3));\n",
              "      fill: #FFFFFF;\n",
              "    }\n",
              "  </style>\n",
              "\n",
              "      <script>\n",
              "        const buttonEl =\n",
              "          document.querySelector('#df-00bcfa16-a71e-404c-b1eb-96cb6ddb7132 button.colab-df-convert');\n",
              "        buttonEl.style.display =\n",
              "          google.colab.kernel.accessAllowed ? 'block' : 'none';\n",
              "\n",
              "        async function convertToInteractive(key) {\n",
              "          const element = document.querySelector('#df-00bcfa16-a71e-404c-b1eb-96cb6ddb7132');\n",
              "          const dataTable =\n",
              "            await google.colab.kernel.invokeFunction('convertToInteractive',\n",
              "                                                     [key], {});\n",
              "          if (!dataTable) return;\n",
              "\n",
              "          const docLinkHtml = 'Like what you see? Visit the ' +\n",
              "            '<a target=\"_blank\" href=https://colab.research.google.com/notebooks/data_table.ipynb>data table notebook</a>'\n",
              "            + ' to learn more about interactive tables.';\n",
              "          element.innerHTML = '';\n",
              "          dataTable['output_type'] = 'display_data';\n",
              "          await google.colab.output.renderOutput(dataTable, element);\n",
              "          const docLink = document.createElement('div');\n",
              "          docLink.innerHTML = docLinkHtml;\n",
              "          element.appendChild(docLink);\n",
              "        }\n",
              "      </script>\n",
              "    </div>\n",
              "  </div>\n",
              "  "
            ]
          },
          "metadata": {},
          "execution_count": 333
        }
      ]
    },
    {
      "cell_type": "code",
      "source": [
        "#visualize covariance\n",
        "plt.figure(figsize= (8,8))\n",
        "\n",
        "sns.heatmap(df.cov(), cmap=\"YlGnBu\")\n",
        "plt.title(\"Covariance\", size=15)"
      ],
      "metadata": {
        "colab": {
          "base_uri": "https://localhost:8080/",
          "height": 518
        },
        "id": "2Wcd_YpmK0gA",
        "outputId": "f5b55517-97a0-4373-d37f-872b9bb1e0a7"
      },
      "execution_count": 334,
      "outputs": [
        {
          "output_type": "execute_result",
          "data": {
            "text/plain": [
              "Text(0.5, 1.0, 'Covariance')"
            ]
          },
          "metadata": {},
          "execution_count": 334
        },
        {
          "output_type": "display_data",
          "data": {
            "text/plain": [
              "<Figure size 576x576 with 2 Axes>"
            ],
            "image/png": "[encoded data removed]"
          },
          "metadata": {
            "needs_background": "light"
          }
        }
      ]
    },
    {
      "cell_type": "code",
      "source": [
        "sns.pairplot(df)"
      ],
      "metadata": {
        "colab": {
          "base_uri": "https://localhost:8080/",
          "height": 1000
        },
        "id": "Tldbq-uWZGAT",
        "outputId": "9cd2cc2d-8eab-46aa-93d4-9ce976c1deae"
      },
      "execution_count": 335,
      "outputs": [
        {
          "output_type": "execute_result",
          "data": {
            "text/plain": [
              "<seaborn.axisgrid.PairGrid at 0x7f49f7b6f950>"
            ]
          },
          "metadata": {},
          "execution_count": 335
        },
        {
          "output_type": "display_data",
          "data": {
            "text/plain": [
              "<Figure size 1080x1080 with 42 Axes>"
            ],
            "image/png": "[encoded data removed]"
          },
          "metadata": {
            "needs_background": "light"
          }
        }
      ]
    },
    {
      "cell_type": "code",
      "source": [
        "#visualize the datasets"
      ],
      "metadata": {
        "id": "NO5SHfisLD8u"
      },
      "execution_count": 336,
      "outputs": []
    },
    {
      "cell_type": "code",
      "source": [
        "sns.countplot(df['BHK'], label=\"Price\")"
      ],
      "metadata": {
        "colab": {
          "base_uri": "https://localhost:8080/",
          "height": 351
        },
        "id": "Yn2HRtEkLGwM",
        "outputId": "fa1d9d6e-4940-48ae-fd2c-d2d0d77c3382"
      },
      "execution_count": 337,
      "outputs": [
        {
          "output_type": "stream",
          "name": "stderr",
          "text": [
            "/usr/local/lib/python3.7/dist-packages/seaborn/_decorators.py:43: FutureWarning: Pass the following variable as a keyword arg: x. From version 0.12, the only valid positional argument will be `data`, and passing other arguments without an explicit keyword will result in an error or misinterpretation.\n",
            "  FutureWarning\n"
          ]
        },
        {
          "output_type": "execute_result",
          "data": {
            "text/plain": [
              "<matplotlib.axes._subplots.AxesSubplot at 0x7f49fac45450>"
            ]
          },
          "metadata": {},
          "execution_count": 337
        },
        {
          "output_type": "display_data",
          "data": {
            "text/plain": [
              "<Figure size 432x288 with 1 Axes>"
            ],
            "image/png": "[encoded data removed]"
          },
          "metadata": {
            "needs_background": "light"
          }
        }
      ]
    },
    {
      "cell_type": "code",
      "source": [
        "sns.countplot(df['Floor'], label=\"Price\")"
      ],
      "metadata": {
        "colab": {
          "base_uri": "https://localhost:8080/",
          "height": 351
        },
        "id": "wDuLNLrMLaWA",
        "outputId": "e98e903e-34fd-4f17-d211-c74c856d880d"
      },
      "execution_count": 338,
      "outputs": [
        {
          "output_type": "stream",
          "name": "stderr",
          "text": [
            "/usr/local/lib/python3.7/dist-packages/seaborn/_decorators.py:43: FutureWarning: Pass the following variable as a keyword arg: x. From version 0.12, the only valid positional argument will be `data`, and passing other arguments without an explicit keyword will result in an error or misinterpretation.\n",
            "  FutureWarning\n"
          ]
        },
        {
          "output_type": "execute_result",
          "data": {
            "text/plain": [
              "<matplotlib.axes._subplots.AxesSubplot at 0x7f49fabaf210>"
            ]
          },
          "metadata": {},
          "execution_count": 338
        },
        {
          "output_type": "display_data",
          "data": {
            "text/plain": [
              "<Figure size 432x288 with 1 Axes>"
            ],
            "image/png": "[encoded data removed]"
          },
          "metadata": {
            "needs_background": "light"
          }
        }
      ]
    },
    {
      "cell_type": "code",
      "source": [
        "sns.countplot(df['Location'], label=\"Price\")"
      ],
      "metadata": {
        "colab": {
          "base_uri": "https://localhost:8080/",
          "height": 351
        },
        "id": "yYVqNuhDLldK",
        "outputId": "0d54e422-def7-43f6-be27-8b2d53b95004"
      },
      "execution_count": 339,
      "outputs": [
        {
          "output_type": "stream",
          "name": "stderr",
          "text": [
            "/usr/local/lib/python3.7/dist-packages/seaborn/_decorators.py:43: FutureWarning: Pass the following variable as a keyword arg: x. From version 0.12, the only valid positional argument will be `data`, and passing other arguments without an explicit keyword will result in an error or misinterpretation.\n",
            "  FutureWarning\n"
          ]
        },
        {
          "output_type": "execute_result",
          "data": {
            "text/plain": [
              "<matplotlib.axes._subplots.AxesSubplot at 0x7f49fabb9d50>"
            ]
          },
          "metadata": {},
          "execution_count": 339
        },
        {
          "output_type": "display_data",
          "data": {
            "text/plain": [
              "<Figure size 432x288 with 1 Axes>"
            ],
            "image/png": "[encoded data removed]"
          },
          "metadata": {
            "needs_background": "light"
          }
        }
      ]
    },
    {
      "cell_type": "code",
      "source": [
        "sns.countplot(df['Furnishing'], label=\"Price\")"
      ],
      "metadata": {
        "colab": {
          "base_uri": "https://localhost:8080/",
          "height": 351
        },
        "id": "nmsxInbNLxkh",
        "outputId": "57ec1f10-e623-43c3-9819-f3128e3aca4f"
      },
      "execution_count": 340,
      "outputs": [
        {
          "output_type": "stream",
          "name": "stderr",
          "text": [
            "/usr/local/lib/python3.7/dist-packages/seaborn/_decorators.py:43: FutureWarning: Pass the following variable as a keyword arg: x. From version 0.12, the only valid positional argument will be `data`, and passing other arguments without an explicit keyword will result in an error or misinterpretation.\n",
            "  FutureWarning\n"
          ]
        },
        {
          "output_type": "execute_result",
          "data": {
            "text/plain": [
              "<matplotlib.axes._subplots.AxesSubplot at 0x7f49faad7550>"
            ]
          },
          "metadata": {},
          "execution_count": 340
        },
        {
          "output_type": "display_data",
          "data": {
            "text/plain": [
              "<Figure size 432x288 with 1 Axes>"
            ],
            "image/png": "[encoded data removed]"
          },
          "metadata": {
            "needs_background": "light"
          }
        }
      ]
    },
    {
      "cell_type": "code",
      "source": [
        "plt.figure(figsize=(10,5))\n",
        "plt.bar(df.columns,df.nunique())"
      ],
      "metadata": {
        "colab": {
          "base_uri": "https://localhost:8080/",
          "height": 337
        },
        "id": "iI2sKX74MD1F",
        "outputId": "df092c58-4b67-4a0b-cec9-707587a1a43b"
      },
      "execution_count": 341,
      "outputs": [
        {
          "output_type": "execute_result",
          "data": {
            "text/plain": [
              "<BarContainer object of 7 artists>"
            ]
          },
          "metadata": {},
          "execution_count": 341
        },
        {
          "output_type": "display_data",
          "data": {
            "text/plain": [
              "<Figure size 720x360 with 1 Axes>"
            ],
            "image/png": "[encoded data removed]"
          },
          "metadata": {
            "needs_background": "light"
          }
        }
      ]
    },
    {
      "cell_type": "code",
      "source": [
        "# find categorical value "
      ],
      "metadata": {
        "id": "167ruG2_Ozib"
      },
      "execution_count": 342,
      "outputs": []
    },
    {
      "cell_type": "code",
      "source": [
        "\n",
        "categorical = [col for col in df.columns if df[col].dtype=='O']\n",
        "print('There are {} categorical variables'. format(len(categorical)))"
      ],
      "metadata": {
        "colab": {
          "base_uri": "https://localhost:8080/"
        },
        "id": "39pbcnYAOxSj",
        "outputId": "dc101bda-18f8-47ac-b222-0fb1e6f9930c"
      },
      "execution_count": 343,
      "outputs": [
        {
          "output_type": "stream",
          "name": "stdout",
          "text": [
            "There are 1 categorical variables\n"
          ]
        }
      ]
    },
    {
      "cell_type": "code",
      "source": [
        "#we use LabelEncoder because in object there are two value if there is more than two value we use (pd.get_dummies or OneHotEncoder)\n",
        "#use Labelencoder to change categorical value into numerical\n"
      ],
      "metadata": {
        "id": "JNLYmHbbNfXJ"
      },
      "execution_count": 344,
      "outputs": []
    },
    {
      "cell_type": "code",
      "source": [
        "from sklearn.preprocessing import LabelEncoder\n",
        "for i in df.columns:\n",
        "  if df[i].dtypes == 'object':\n",
        "    df[i] = LabelEncoder().fit_transform(df[i])"
      ],
      "metadata": {
        "id": "2ni_Qw7eNrnM"
      },
      "execution_count": 345,
      "outputs": []
    },
    {
      "cell_type": "code",
      "source": [
        "\n",
        "df.dtypes"
      ],
      "metadata": {
        "colab": {
          "base_uri": "https://localhost:8080/"
        },
        "id": "BbVQillWOVGJ",
        "outputId": "709931f4-2309-41ba-93b1-993b2553bc09"
      },
      "execution_count": 346,
      "outputs": [
        {
          "output_type": "execute_result",
          "data": {
            "text/plain": [
              "Location      int64\n",
              "BHK           int64\n",
              "Furnishing    int64\n",
              "Sq.ft         int64\n",
              "Old(years)    int64\n",
              "Floor         int64\n",
              "Price         int64\n",
              "dtype: object"
            ]
          },
          "metadata": {},
          "execution_count": 346
        }
      ]
    },
    {
      "cell_type": "code",
      "source": [
        "#seperate dataset into X and Y "
      ],
      "metadata": {
        "id": "snnY3Hf-PdDf"
      },
      "execution_count": 347,
      "outputs": []
    },
    {
      "cell_type": "code",
      "source": [
        "x = df.drop([\"Price\"],axis=1)\n",
        "y = df['Price']"
      ],
      "metadata": {
        "id": "6M2RaEQ4fPGl"
      },
      "execution_count": 348,
      "outputs": []
    },
    {
      "cell_type": "code",
      "source": [
        "# use standardScaler to standardise the value"
      ],
      "metadata": {
        "id": "NIEGfEV9fe94"
      },
      "execution_count": 349,
      "outputs": []
    },
    {
      "cell_type": "code",
      "source": [
        "from sklearn.preprocessing import StandardScaler\n",
        "\n",
        "sc = StandardScaler()\n",
        "\n",
        "x = sc.fit_transform(x)"
      ],
      "metadata": {
        "id": "viEEs6ltftkh"
      },
      "execution_count": 350,
      "outputs": []
    },
    {
      "cell_type": "code",
      "source": [
        "x"
      ],
      "metadata": {
        "colab": {
          "base_uri": "https://localhost:8080/"
        },
        "id": "CDRP4vO5mShG",
        "outputId": "6c9bc7b6-d132-4553-893c-ab4ae389476e"
      },
      "execution_count": 351,
      "outputs": [
        {
          "output_type": "execute_result",
          "data": {
            "text/plain": [
              "array([[-0.99203175,  1.1373557 ,  1.36878165,  3.15947496, -0.99398817,\n",
              "        -0.14336036],\n",
              "       [-0.99203175,  1.1373557 ,  1.36878165,  0.41013441,  1.95942666,\n",
              "        -1.06826592],\n",
              "       [ 1.00803226, -0.87923242, -0.73057671, -0.91362216,  0.31864064,\n",
              "        -0.14336036],\n",
              "       ...,\n",
              "       [-0.99203175, -0.87923242, -0.73057671, -0.84641606,  0.31864064,\n",
              "        -1.06826592],\n",
              "       [-0.99203175,  1.1373557 , -0.73057671,  0.10465212,  1.95942666,\n",
              "        -0.75996407],\n",
              "       [ 1.00803226,  1.1373557 ,  1.36878165,  0.65044714,  0.31864064,\n",
              "         2.32305445]])"
            ]
          },
          "metadata": {},
          "execution_count": 351
        }
      ]
    },
    {
      "cell_type": "code",
      "source": [
        "# use train_test_split to split the data set into train and test"
      ],
      "metadata": {
        "id": "53Rsj825ee-k"
      },
      "execution_count": 352,
      "outputs": []
    },
    {
      "cell_type": "code",
      "source": [
        "from sklearn.model_selection import train_test_split "
      ],
      "metadata": {
        "id": "ioRjkqwpetQm"
      },
      "execution_count": 353,
      "outputs": []
    },
    {
      "cell_type": "code",
      "source": [
        "x_train,x_test,y_train,y_test = train_test_split(x,y,test_size=0.2,random_state=42)"
      ],
      "metadata": {
        "id": "5Z5QFeYRe8YG"
      },
      "execution_count": 354,
      "outputs": []
    },
    {
      "cell_type": "code",
      "source": [
        "#Libraries for model "
      ],
      "metadata": {
        "id": "0eHwmyQFc03d"
      },
      "execution_count": 355,
      "outputs": []
    },
    {
      "cell_type": "code",
      "source": [
        "\n",
        "from sklearn.ensemble import RandomForestClassifier\n",
        "rfc = RandomForestClassifier()\n",
        "from sklearn.metrics import confusion_matrix\n",
        "from sklearn.metrics import plot_confusion_matrix\n",
        "from sklearn.metrics import accuracy_score\n",
        "from sklearn.metrics import classification_report\n",
        "from sklearn.metrics import classification_report\n",
        "from sklearn.tree import DecisionTreeClassifier\n",
        "dtc = DecisionTreeClassifier() \n",
        "from sklearn.neighbors import KNeighborsClassifier\n",
        "\n",
        "from sklearn.svm import SVC\n",
        "\n",
        "from sklearn.metrics import accuracy_score\n",
        "from sklearn.naive_bayes import GaussianNB\n",
        "\n",
        "\n",
        "nb=GaussianNB()\n"
      ],
      "metadata": {
        "id": "3EEteNYLP074"
      },
      "execution_count": 356,
      "outputs": []
    },
    {
      "cell_type": "markdown",
      "source": [
        "#LinearRegression"
      ],
      "metadata": {
        "id": "9RE5dJZxR1ig"
      }
    },
    {
      "cell_type": "code",
      "source": [
        "from sklearn.linear_model import LinearRegression\n",
        "lr = LinearRegression()\n",
        "lr.fit(x_train,y_train)\n"
      ],
      "metadata": {
        "id": "QWr6ghWgfMHU",
        "colab": {
          "base_uri": "https://localhost:8080/"
        },
        "outputId": "04968fb5-eb34-47af-84ca-b8a91df58c6d"
      },
      "execution_count": 357,
      "outputs": [
        {
          "output_type": "execute_result",
          "data": {
            "text/plain": [
              "LinearRegression()"
            ]
          },
          "metadata": {},
          "execution_count": 357
        }
      ]
    },
    {
      "cell_type": "code",
      "source": [
        "train_pred = lr.predict(x_train)\n",
        "test_pred = lr.predict(x_test)"
      ],
      "metadata": {
        "id": "OW_tDqDWTE6S"
      },
      "execution_count": 358,
      "outputs": []
    },
    {
      "cell_type": "code",
      "source": [
        "lr_score_train = lr.score(x_train, y_train)\n",
        "lr_score_test = lr.score(x_test,y_test)\n",
        "\n",
        "print(lr_score_train)\n",
        "print(lr_score_test)"
      ],
      "metadata": {
        "colab": {
          "base_uri": "https://localhost:8080/"
        },
        "id": "aW0x8SsyTbht",
        "outputId": "b7323ff8-f287-41c2-95d2-dd938cd72f30"
      },
      "execution_count": 359,
      "outputs": [
        {
          "output_type": "stream",
          "name": "stdout",
          "text": [
            "0.838499012638583\n",
            "0.8432400276436331\n"
          ]
        }
      ]
    },
    {
      "cell_type": "markdown",
      "source": [
        "#random Forest Classifier"
      ],
      "metadata": {
        "id": "gzp1wsfqS88q"
      }
    },
    {
      "cell_type": "code",
      "source": [
        "#Random Forest Classifier"
      ],
      "metadata": {
        "id": "zAu9GSNxr74X"
      },
      "execution_count": 360,
      "outputs": []
    },
    {
      "cell_type": "code",
      "source": [
        "from sklearn.ensemble import RandomForestClassifier\n",
        "\n",
        "rfc = RandomForestClassifier()\n",
        "\n",
        "rfc.fit(x_train,y_train)"
      ],
      "metadata": {
        "colab": {
          "base_uri": "https://localhost:8080/"
        },
        "id": "uqMYPTXPt7H9",
        "outputId": "5f350684-2351-421a-bbfa-983f54e9073a"
      },
      "execution_count": 361,
      "outputs": [
        {
          "output_type": "execute_result",
          "data": {
            "text/plain": [
              "RandomForestClassifier()"
            ]
          },
          "metadata": {},
          "execution_count": 361
        }
      ]
    },
    {
      "cell_type": "code",
      "source": [
        "test_pred = rfc.predict(x_test)\n",
        "train_pred = rfc.predict(x_train)"
      ],
      "metadata": {
        "id": "-Rs_2rQ1udFm"
      },
      "execution_count": 362,
      "outputs": []
    },
    {
      "cell_type": "code",
      "source": [
        "rfc_train = accuracy_score(y_train,train_pred)\n",
        "rfc_test = accuracy_score(y_test, test_pred)"
      ],
      "metadata": {
        "id": "w6H6eVYcuraV"
      },
      "execution_count": 363,
      "outputs": []
    },
    {
      "cell_type": "code",
      "source": [
        "from sklearn.metrics import classification_report\n",
        "print(classification_report(y_test, test_pred))"
      ],
      "metadata": {
        "colab": {
          "base_uri": "https://localhost:8080/"
        },
        "id": "Bd2mImzosDZ4",
        "outputId": "4345206b-0722-4cac-981d-b9f4043cec34"
      },
      "execution_count": 364,
      "outputs": [
        {
          "output_type": "stream",
          "name": "stdout",
          "text": [
            "              precision    recall  f1-score   support\n",
            "\n",
            "       11000       1.00      1.00      1.00         6\n",
            "       14000       1.00      1.00      1.00        10\n",
            "       15500       1.00      1.00      1.00        13\n",
            "       16000       1.00      1.00      1.00        12\n",
            "       16400       1.00      1.00      1.00         2\n",
            "       16500       1.00      1.00      1.00         2\n",
            "       17000       1.00      1.00      1.00         3\n",
            "       18000       1.00      1.00      1.00         8\n",
            "       19000       1.00      1.00      1.00         7\n",
            "       19500       1.00      1.00      1.00         2\n",
            "       20000       1.00      1.00      1.00        15\n",
            "       21000       1.00      1.00      1.00        11\n",
            "       22000       1.00      1.00      1.00        17\n",
            "       23000       1.00      1.00      1.00         4\n",
            "       24000       1.00      1.00      1.00         5\n",
            "       25000       1.00      1.00      1.00        17\n",
            "       26000       1.00      1.00      1.00        17\n",
            "       27000       1.00      1.00      1.00         1\n",
            "       28000       1.00      1.00      1.00        16\n",
            "       30000       1.00      1.00      1.00         2\n",
            "       33000       1.00      1.00      1.00         4\n",
            "       35000       1.00      1.00      1.00        11\n",
            "       39000       1.00      1.00      1.00         8\n",
            "       39500       1.00      1.00      1.00         1\n",
            "       42000       1.00      1.00      1.00         2\n",
            "       45000       1.00      1.00      1.00         4\n",
            "\n",
            "    accuracy                           1.00       200\n",
            "   macro avg       1.00      1.00      1.00       200\n",
            "weighted avg       1.00      1.00      1.00       200\n",
            "\n"
          ]
        }
      ]
    },
    {
      "cell_type": "code",
      "source": [
        "#Decision Tree"
      ],
      "metadata": {
        "id": "SxpNTSmStlz1"
      },
      "execution_count": 365,
      "outputs": []
    },
    {
      "cell_type": "code",
      "source": [
        "dtc = DecisionTreeClassifier()\n",
        "dtc.fit(x_train,y_train)"
      ],
      "metadata": {
        "colab": {
          "base_uri": "https://localhost:8080/"
        },
        "id": "lGtNY_fwX1X1",
        "outputId": "a814029b-5a31-4ea6-be5f-ed9557120808"
      },
      "execution_count": 366,
      "outputs": [
        {
          "output_type": "execute_result",
          "data": {
            "text/plain": [
              "DecisionTreeClassifier()"
            ]
          },
          "metadata": {},
          "execution_count": 366
        }
      ]
    },
    {
      "cell_type": "code",
      "source": [
        "dtc_train =  dtc.score(x_train,y_train)\n",
        "dtc_test = dtc.score(x_test,y_test)"
      ],
      "metadata": {
        "id": "viHWxLgnYBRL"
      },
      "execution_count": 367,
      "outputs": []
    },
    {
      "cell_type": "code",
      "source": [
        "y_pred = dtc.predict(x_test)"
      ],
      "metadata": {
        "id": "FERIV7zWYN4q"
      },
      "execution_count": 368,
      "outputs": []
    },
    {
      "cell_type": "code",
      "source": [
        "performance = confusion_matrix(y_test,y_pred)\n",
        "plot_confusion_matrix(dtc,x_test,y_test)\n",
        "plt.show()\n",
        "dtc_acc = print(\"Accuracy of model : \", accuracy_score(y_test, y_pred))"
      ],
      "metadata": {
        "colab": {
          "base_uri": "https://localhost:8080/",
          "height": 352
        },
        "id": "cWF_OaRMYmn7",
        "outputId": "0a4b39cc-c302-4fcc-8571-d35f33c6ecec"
      },
      "execution_count": 369,
      "outputs": [
        {
          "output_type": "stream",
          "name": "stderr",
          "text": [
            "/usr/local/lib/python3.7/dist-packages/sklearn/utils/deprecation.py:87: FutureWarning: Function plot_confusion_matrix is deprecated; Function `plot_confusion_matrix` is deprecated in 1.0 and will be removed in 1.2. Use one of the class methods: ConfusionMatrixDisplay.from_predictions or ConfusionMatrixDisplay.from_estimator.\n",
            "  return fun(*args, **kwargs)\n"
          ]
        },
        {
          "output_type": "display_data",
          "data": {
            "text/plain": [
              "<Figure size 432x288 with 2 Axes>"
            ],
            "image/png": "[encoded data removed]"
          },
          "metadata": {
            "needs_background": "light"
          }
        },
        {
          "output_type": "stream",
          "name": "stdout",
          "text": [
            "Accuracy of model :  1.0\n"
          ]
        }
      ]
    },
    {
      "cell_type": "code",
      "source": [
        "print(classification_report(y_test,y_pred))"
      ],
      "metadata": {
        "colab": {
          "base_uri": "https://localhost:8080/"
        },
        "id": "UvfCyOV9ZLiN",
        "outputId": "0eade038-3d4c-4cbc-d437-f1fb349f0d94"
      },
      "execution_count": 370,
      "outputs": [
        {
          "output_type": "stream",
          "name": "stdout",
          "text": [
            "              precision    recall  f1-score   support\n",
            "\n",
            "       11000       1.00      1.00      1.00         6\n",
            "       14000       1.00      1.00      1.00        10\n",
            "       15500       1.00      1.00      1.00        13\n",
            "       16000       1.00      1.00      1.00        12\n",
            "       16400       1.00      1.00      1.00         2\n",
            "       16500       1.00      1.00      1.00         2\n",
            "       17000       1.00      1.00      1.00         3\n",
            "       18000       1.00      1.00      1.00         8\n",
            "       19000       1.00      1.00      1.00         7\n",
            "       19500       1.00      1.00      1.00         2\n",
            "       20000       1.00      1.00      1.00        15\n",
            "       21000       1.00      1.00      1.00        11\n",
            "       22000       1.00      1.00      1.00        17\n",
            "       23000       1.00      1.00      1.00         4\n",
            "       24000       1.00      1.00      1.00         5\n",
            "       25000       1.00      1.00      1.00        17\n",
            "       26000       1.00      1.00      1.00        17\n",
            "       27000       1.00      1.00      1.00         1\n",
            "       28000       1.00      1.00      1.00        16\n",
            "       30000       1.00      1.00      1.00         2\n",
            "       33000       1.00      1.00      1.00         4\n",
            "       35000       1.00      1.00      1.00        11\n",
            "       39000       1.00      1.00      1.00         8\n",
            "       39500       1.00      1.00      1.00         1\n",
            "       42000       1.00      1.00      1.00         2\n",
            "       45000       1.00      1.00      1.00         4\n",
            "\n",
            "    accuracy                           1.00       200\n",
            "   macro avg       1.00      1.00      1.00       200\n",
            "weighted avg       1.00      1.00      1.00       200\n",
            "\n"
          ]
        }
      ]
    },
    {
      "cell_type": "code",
      "source": [
        "# K Neighbors Classifier"
      ],
      "metadata": {
        "id": "Kh4vK5ngZT7j"
      },
      "execution_count": 371,
      "outputs": []
    },
    {
      "cell_type": "code",
      "source": [
        "from sklearn.neighbors import KNeighborsClassifier\n",
        "knc = KNeighborsClassifier()\n",
        "knc.fit(x_train,y_train)"
      ],
      "metadata": {
        "colab": {
          "base_uri": "https://localhost:8080/"
        },
        "id": "Q2nAvsfpZZGJ",
        "outputId": "6b9c18d4-b5cf-4947-b04d-9b21535fef13"
      },
      "execution_count": 372,
      "outputs": [
        {
          "output_type": "execute_result",
          "data": {
            "text/plain": [
              "KNeighborsClassifier()"
            ]
          },
          "metadata": {},
          "execution_count": 372
        }
      ]
    },
    {
      "cell_type": "code",
      "source": [
        "knc_train = knc.score(x_train,y_train)\n",
        "knc_test = knc.score(x_test,y_test)"
      ],
      "metadata": {
        "id": "xwQtd8FQZf10"
      },
      "execution_count": 373,
      "outputs": []
    },
    {
      "cell_type": "code",
      "source": [
        "y_pred = knc.predict(x_test)\n"
      ],
      "metadata": {
        "id": "utiVK-gTZqvY"
      },
      "execution_count": 374,
      "outputs": []
    },
    {
      "cell_type": "code",
      "source": [
        "\n",
        "\n",
        "performance = confusion_matrix(y_test,y_pred)\n",
        "\n",
        "plot_confusion_matrix(knc,x_test,y_test)\n",
        "plt.show()\n",
        "knc_acc = print('Accuracy of model:',accuracy_score(y_test,y_pred))"
      ],
      "metadata": {
        "colab": {
          "base_uri": "https://localhost:8080/",
          "height": 352
        },
        "id": "oh4BaS7_Z0IX",
        "outputId": "699c06b5-042e-4c08-b664-38a1253e6f25"
      },
      "execution_count": 377,
      "outputs": [
        {
          "output_type": "stream",
          "name": "stderr",
          "text": [
            "/usr/local/lib/python3.7/dist-packages/sklearn/utils/deprecation.py:87: FutureWarning: Function plot_confusion_matrix is deprecated; Function `plot_confusion_matrix` is deprecated in 1.0 and will be removed in 1.2. Use one of the class methods: ConfusionMatrixDisplay.from_predictions or ConfusionMatrixDisplay.from_estimator.\n",
            "  return fun(*args, **kwargs)\n"
          ]
        },
        {
          "output_type": "display_data",
          "data": {
            "text/plain": [
              "<Figure size 432x288 with 2 Axes>"
            ],
            "image/png": "[encoded data removed]"
          },
          "metadata": {
            "needs_background": "light"
          }
        },
        {
          "output_type": "stream",
          "name": "stdout",
          "text": [
            "Accuracy of model: 1.0\n"
          ]
        }
      ]
    },
    {
      "cell_type": "code",
      "source": [
        "print(classification_report(y_test, y_pred))"
      ],
      "metadata": {
        "colab": {
          "base_uri": "https://localhost:8080/"
        },
        "id": "jUZ1BzbHZ9jM",
        "outputId": "ffdb33ca-3243-47ab-cf9b-e24a98033863"
      },
      "execution_count": 378,
      "outputs": [
        {
          "output_type": "stream",
          "name": "stdout",
          "text": [
            "              precision    recall  f1-score   support\n",
            "\n",
            "       11000       1.00      1.00      1.00         6\n",
            "       14000       1.00      1.00      1.00        10\n",
            "       15500       1.00      1.00      1.00        13\n",
            "       16000       1.00      1.00      1.00        12\n",
            "       16400       1.00      1.00      1.00         2\n",
            "       16500       1.00      1.00      1.00         2\n",
            "       17000       1.00      1.00      1.00         3\n",
            "       18000       1.00      1.00      1.00         8\n",
            "       19000       1.00      1.00      1.00         7\n",
            "       19500       1.00      1.00      1.00         2\n",
            "       20000       1.00      1.00      1.00        15\n",
            "       21000       1.00      1.00      1.00        11\n",
            "       22000       1.00      1.00      1.00        17\n",
            "       23000       1.00      1.00      1.00         4\n",
            "       24000       1.00      1.00      1.00         5\n",
            "       25000       1.00      1.00      1.00        17\n",
            "       26000       1.00      1.00      1.00        17\n",
            "       27000       1.00      1.00      1.00         1\n",
            "       28000       1.00      1.00      1.00        16\n",
            "       30000       1.00      1.00      1.00         2\n",
            "       33000       1.00      1.00      1.00         4\n",
            "       35000       1.00      1.00      1.00        11\n",
            "       39000       1.00      1.00      1.00         8\n",
            "       39500       1.00      1.00      1.00         1\n",
            "       42000       1.00      1.00      1.00         2\n",
            "       45000       1.00      1.00      1.00         4\n",
            "\n",
            "    accuracy                           1.00       200\n",
            "   macro avg       1.00      1.00      1.00       200\n",
            "weighted avg       1.00      1.00      1.00       200\n",
            "\n"
          ]
        }
      ]
    },
    {
      "cell_type": "code",
      "source": [
        "#Support Vector Machine"
      ],
      "metadata": {
        "id": "9dTMGUHGdRUX"
      },
      "execution_count": 379,
      "outputs": []
    },
    {
      "cell_type": "code",
      "source": [
        "#Support vector Machine \n",
        "from sklearn.svm import SVC\n",
        "svm = SVC()\n",
        "svm.fit(x_train,y_train)"
      ],
      "metadata": {
        "colab": {
          "base_uri": "https://localhost:8080/"
        },
        "id": "cfTId_Lrcah1",
        "outputId": "4999efa9-f10d-4b62-ad02-61644857eb79"
      },
      "execution_count": 380,
      "outputs": [
        {
          "output_type": "execute_result",
          "data": {
            "text/plain": [
              "SVC()"
            ]
          },
          "metadata": {},
          "execution_count": 380
        }
      ]
    },
    {
      "cell_type": "code",
      "source": [
        "svm_train = svm.score(x_train,y_train)\n",
        "svm_test = svm.score(x_test,y_test)"
      ],
      "metadata": {
        "id": "fNLxcjWHcgSg"
      },
      "execution_count": 381,
      "outputs": []
    },
    {
      "cell_type": "code",
      "source": [
        "y_pred = svm.predict(x_test)\n",
        "x_pred = svm.predict(x_train)"
      ],
      "metadata": {
        "id": "E3q26jjcdot7"
      },
      "execution_count": 382,
      "outputs": []
    },
    {
      "cell_type": "code",
      "source": [
        "from sklearn.naive_bayes import GaussianNB\n",
        "nb=GaussianNB()\n",
        "nb.fit(x_train,y_train)"
      ],
      "metadata": {
        "colab": {
          "base_uri": "https://localhost:8080/"
        },
        "id": "7K2rAgfjeRSR",
        "outputId": "cf28af59-155d-4ad8-f95d-baecd4b0a3f5"
      },
      "execution_count": 383,
      "outputs": [
        {
          "output_type": "execute_result",
          "data": {
            "text/plain": [
              "GaussianNB()"
            ]
          },
          "metadata": {},
          "execution_count": 383
        }
      ]
    },
    {
      "cell_type": "code",
      "source": [
        "nb_train = nb.score(x_train,y_train)\n",
        "nb_test = nb.score(x_test,y_test)"
      ],
      "metadata": {
        "id": "30wBFr6-eW8m"
      },
      "execution_count": 384,
      "outputs": []
    },
    {
      "cell_type": "code",
      "source": [
        "y_predict = nb.predict(x_test)\n"
      ],
      "metadata": {
        "id": "G2sJzNuVecqr"
      },
      "execution_count": 385,
      "outputs": []
    },
    {
      "cell_type": "code",
      "source": [
        "from sklearn.metrics import confusion_matrix\n",
        "from sklearn.metrics import plot_confusion_matrix\n",
        "from sklearn.metrics import classification_report\n",
        "from sklearn.metrics import accuracy_score\n",
        "\n",
        "performance = confusion_matrix(y_test,y_predict)\n",
        "\n",
        "plot_confusion_matrix(svm,x_test,y_test)\n",
        "plt.show()\n",
        "print('Accuracy of model:',accuracy_score(y_test,y_predict))"
      ],
      "metadata": {
        "colab": {
          "base_uri": "https://localhost:8080/",
          "height": 352
        },
        "id": "M0L5bsATecmD",
        "outputId": "3a3e0482-0d5a-4e11-ac89-62d95235a975"
      },
      "execution_count": 386,
      "outputs": [
        {
          "output_type": "stream",
          "name": "stderr",
          "text": [
            "/usr/local/lib/python3.7/dist-packages/sklearn/utils/deprecation.py:87: FutureWarning: Function plot_confusion_matrix is deprecated; Function `plot_confusion_matrix` is deprecated in 1.0 and will be removed in 1.2. Use one of the class methods: ConfusionMatrixDisplay.from_predictions or ConfusionMatrixDisplay.from_estimator.\n",
            "  return fun(*args, **kwargs)\n"
          ]
        },
        {
          "output_type": "display_data",
          "data": {
            "text/plain": [
              "<Figure size 432x288 with 2 Axes>"
            ],
            "image/png": "[encoded data removed]"
          },
          "metadata": {
            "needs_background": "light"
          }
        },
        {
          "output_type": "stream",
          "name": "stdout",
          "text": [
            "Accuracy of model: 0.745\n"
          ]
        }
      ]
    },
    {
      "cell_type": "markdown",
      "source": [
        "#score Table"
      ],
      "metadata": {
        "id": "XoiBO6-oWxjM"
      }
    },
    {
      "cell_type": "code",
      "source": [
        "from pandas.core.frame import DataFrame\n",
        "Model_Compare = DataFrame({\n",
        "    'Model' : ['Linear Regression','SVM','KNN','Decision Tree','Random Forest', 'naive_bayes'],\n",
        "    'Scores_test': [lr_score_test*100,svm_test*100,knc_test*100,dtc_test*100,rfc_test*100, nb_test*100],\n",
        "    'Scores_train': [lr_score_train*100,svm_train*100,knc_train*100,dtc_train*100,rfc_train*100,nb_train*100]\n",
        "    })\n",
        "Model_Compare"
      ],
      "metadata": {
        "colab": {
          "base_uri": "https://localhost:8080/",
          "height": 237
        },
        "id": "YoGaqz2vRuXQ",
        "outputId": "0df94d29-c2da-4cf5-88af-0d4d8c220406"
      },
      "execution_count": 390,
      "outputs": [
        {
          "output_type": "execute_result",
          "data": {
            "text/plain": [
              "               Model  Scores_test  Scores_train\n",
              "0  Linear Regression    84.324003     83.849901\n",
              "1                SVM    86.500000     85.750000\n",
              "2                KNN   100.000000    100.000000\n",
              "3      Decision Tree   100.000000    100.000000\n",
              "4      Random Forest   100.000000    100.000000\n",
              "5        naive_bayes    74.500000     75.625000"
            ],
            "text/html": [
              "\n",
              "  <div id=\"df-e5fe7f5d-5f7f-49c5-a772-797384fac3f3\">\n",
              "    <div class=\"colab-df-container\">\n",
              "      <div>\n",
              "<style scoped>\n",
              "    .dataframe tbody tr th:only-of-type {\n",
              "        vertical-align: middle;\n",
              "    }\n",
              "\n",
              "    .dataframe tbody tr th {\n",
              "        vertical-align: top;\n",
              "    }\n",
              "\n",
              "    .dataframe thead th {\n",
              "        text-align: right;\n",
              "    }\n",
              "</style>\n",
              "<table border=\"1\" class=\"dataframe\">\n",
              "  <thead>\n",
              "    <tr style=\"text-align: right;\">\n",
              "      <th></th>\n",
              "      <th>Model</th>\n",
              "      <th>Scores_test</th>\n",
              "      <th>Scores_train</th>\n",
              "    </tr>\n",
              "  </thead>\n",
              "  <tbody>\n",
              "    <tr>\n",
              "      <th>0</th>\n",
              "      <td>Linear Regression</td>\n",
              "      <td>84.324003</td>\n",
              "      <td>83.849901</td>\n",
              "    </tr>\n",
              "    <tr>\n",
              "      <th>1</th>\n",
              "      <td>SVM</td>\n",
              "      <td>86.500000</td>\n",
              "      <td>85.750000</td>\n",
              "    </tr>\n",
              "    <tr>\n",
              "      <th>2</th>\n",
              "      <td>KNN</td>\n",
              "      <td>100.000000</td>\n",
              "      <td>100.000000</td>\n",
              "    </tr>\n",
              "    <tr>\n",
              "      <th>3</th>\n",
              "      <td>Decision Tree</td>\n",
              "      <td>100.000000</td>\n",
              "      <td>100.000000</td>\n",
              "    </tr>\n",
              "    <tr>\n",
              "      <th>4</th>\n",
              "      <td>Random Forest</td>\n",
              "      <td>100.000000</td>\n",
              "      <td>100.000000</td>\n",
              "    </tr>\n",
              "    <tr>\n",
              "      <th>5</th>\n",
              "      <td>naive_bayes</td>\n",
              "      <td>74.500000</td>\n",
              "      <td>75.625000</td>\n",
              "    </tr>\n",
              "  </tbody>\n",
              "</table>\n",
              "</div>\n",
              "      <button class=\"colab-df-convert\" onclick=\"convertToInteractive('df-e5fe7f5d-5f7f-49c5-a772-797384fac3f3')\"\n",
              "              title=\"Convert this dataframe to an interactive table.\"\n",
              "              style=\"display:none;\">\n",
              "        \n",
              "  <svg xmlns=\"http://www.w3.org/2000/svg\" height=\"24px\"viewBox=\"0 0 24 24\"\n",
              "       width=\"24px\">\n",
              "    <path d=\"M0 0h24v24H0V0z\" fill=\"none\"/>\n",
              "    <path d=\"M18.56 5.44l.94 2.06.94-2.06 2.06-.94-2.06-.94-.94-2.06-.94 2.06-2.06.94zm-11 1L8.5 8.5l.94-2.06 2.06-.94-2.06-.94L8.5 2.5l-.94 2.06-2.06.94zm10 10l.94 2.06.94-2.06 2.06-.94-2.06-.94-.94-2.06-.94 2.06-2.06.94z\"/><path d=\"M17.41 7.96l-1.37-1.37c-.4-.4-.92-.59-1.43-.59-.52 0-1.04.2-1.43.59L10.3 9.45l-7.72 7.72c-.78.78-.78 2.05 0 2.83L4 21.41c.39.39.9.59 1.41.59.51 0 1.02-.2 1.41-.59l7.78-7.78 2.81-2.81c.8-.78.8-2.07 0-2.86zM5.41 20L4 18.59l7.72-7.72 1.47 1.35L5.41 20z\"/>\n",
              "  </svg>\n",
              "      </button>\n",
              "      \n",
              "  <style>\n",
              "    .colab-df-container {\n",
              "      display:flex;\n",
              "      flex-wrap:wrap;\n",
              "      gap: 12px;\n",
              "    }\n",
              "\n",
              "    .colab-df-convert {\n",
              "      background-color: #E8F0FE;\n",
              "      border: none;\n",
              "      border-radius: 50%;\n",
              "      cursor: pointer;\n",
              "      display: none;\n",
              "      fill: #1967D2;\n",
              "      height: 32px;\n",
              "      padding: 0 0 0 0;\n",
              "      width: 32px;\n",
              "    }\n",
              "\n",
              "    .colab-df-convert:hover {\n",
              "      background-color: #E2EBFA;\n",
              "      box-shadow: 0px 1px 2px rgba(60, 64, 67, 0.3), 0px 1px 3px 1px rgba(60, 64, 67, 0.15);\n",
              "      fill: #174EA6;\n",
              "    }\n",
              "\n",
              "    [theme=dark] .colab-df-convert {\n",
              "      background-color: #3B4455;\n",
              "      fill: #D2E3FC;\n",
              "    }\n",
              "\n",
              "    [theme=dark] .colab-df-convert:hover {\n",
              "      background-color: #434B5C;\n",
              "      box-shadow: 0px 1px 3px 1px rgba(0, 0, 0, 0.15);\n",
              "      filter: drop-shadow(0px 1px 2px rgba(0, 0, 0, 0.3));\n",
              "      fill: #FFFFFF;\n",
              "    }\n",
              "  </style>\n",
              "\n",
              "      <script>\n",
              "        const buttonEl =\n",
              "          document.querySelector('#df-e5fe7f5d-5f7f-49c5-a772-797384fac3f3 button.colab-df-convert');\n",
              "        buttonEl.style.display =\n",
              "          google.colab.kernel.accessAllowed ? 'block' : 'none';\n",
              "\n",
              "        async function convertToInteractive(key) {\n",
              "          const element = document.querySelector('#df-e5fe7f5d-5f7f-49c5-a772-797384fac3f3');\n",
              "          const dataTable =\n",
              "            await google.colab.kernel.invokeFunction('convertToInteractive',\n",
              "                                                     [key], {});\n",
              "          if (!dataTable) return;\n",
              "\n",
              "          const docLinkHtml = 'Like what you see? Visit the ' +\n",
              "            '<a target=\"_blank\" href=https://colab.research.google.com/notebooks/data_table.ipynb>data table notebook</a>'\n",
              "            + ' to learn more about interactive tables.';\n",
              "          element.innerHTML = '';\n",
              "          dataTable['output_type'] = 'display_data';\n",
              "          await google.colab.output.renderOutput(dataTable, element);\n",
              "          const docLink = document.createElement('div');\n",
              "          docLink.innerHTML = docLinkHtml;\n",
              "          element.appendChild(docLink);\n",
              "        }\n",
              "      </script>\n",
              "    </div>\n",
              "  </div>\n",
              "  "
            ]
          },
          "metadata": {},
          "execution_count": 390
        }
      ]
    },
    {
      "cell_type": "code",
      "source": [
        "Model_Comparison_df = Model_Compare.sort_values(by= 'Scores_test', ascending=False)\n",
        "Model_Comparison_df.reset_index()[Model_Comparison_df.columns]"
      ],
      "metadata": {
        "colab": {
          "base_uri": "https://localhost:8080/",
          "height": 237
        },
        "id": "cVRHYWWIW_r0",
        "outputId": "560c0cd7-677d-4ecf-b1ce-f51a42080183"
      },
      "execution_count": 391,
      "outputs": [
        {
          "output_type": "execute_result",
          "data": {
            "text/plain": [
              "               Model  Scores_test  Scores_train\n",
              "0                KNN   100.000000    100.000000\n",
              "1      Decision Tree   100.000000    100.000000\n",
              "2      Random Forest   100.000000    100.000000\n",
              "3                SVM    86.500000     85.750000\n",
              "4  Linear Regression    84.324003     83.849901\n",
              "5        naive_bayes    74.500000     75.625000"
            ],
            "text/html": [
              "\n",
              "  <div id=\"df-95b17be8-67f5-41ea-9794-11f68e374709\">\n",
              "    <div class=\"colab-df-container\">\n",
              "      <div>\n",
              "<style scoped>\n",
              "    .dataframe tbody tr th:only-of-type {\n",
              "        vertical-align: middle;\n",
              "    }\n",
              "\n",
              "    .dataframe tbody tr th {\n",
              "        vertical-align: top;\n",
              "    }\n",
              "\n",
              "    .dataframe thead th {\n",
              "        text-align: right;\n",
              "    }\n",
              "</style>\n",
              "<table border=\"1\" class=\"dataframe\">\n",
              "  <thead>\n",
              "    <tr style=\"text-align: right;\">\n",
              "      <th></th>\n",
              "      <th>Model</th>\n",
              "      <th>Scores_test</th>\n",
              "      <th>Scores_train</th>\n",
              "    </tr>\n",
              "  </thead>\n",
              "  <tbody>\n",
              "    <tr>\n",
              "      <th>0</th>\n",
              "      <td>KNN</td>\n",
              "      <td>100.000000</td>\n",
              "      <td>100.000000</td>\n",
              "    </tr>\n",
              "    <tr>\n",
              "      <th>1</th>\n",
              "      <td>Decision Tree</td>\n",
              "      <td>100.000000</td>\n",
              "      <td>100.000000</td>\n",
              "    </tr>\n",
              "    <tr>\n",
              "      <th>2</th>\n",
              "      <td>Random Forest</td>\n",
              "      <td>100.000000</td>\n",
              "      <td>100.000000</td>\n",
              "    </tr>\n",
              "    <tr>\n",
              "      <th>3</th>\n",
              "      <td>SVM</td>\n",
              "      <td>86.500000</td>\n",
              "      <td>85.750000</td>\n",
              "    </tr>\n",
              "    <tr>\n",
              "      <th>4</th>\n",
              "      <td>Linear Regression</td>\n",
              "      <td>84.324003</td>\n",
              "      <td>83.849901</td>\n",
              "    </tr>\n",
              "    <tr>\n",
              "      <th>5</th>\n",
              "      <td>naive_bayes</td>\n",
              "      <td>74.500000</td>\n",
              "      <td>75.625000</td>\n",
              "    </tr>\n",
              "  </tbody>\n",
              "</table>\n",
              "</div>\n",
              "      <button class=\"colab-df-convert\" onclick=\"convertToInteractive('df-95b17be8-67f5-41ea-9794-11f68e374709')\"\n",
              "              title=\"Convert this dataframe to an interactive table.\"\n",
              "              style=\"display:none;\">\n",
              "        \n",
              "  <svg xmlns=\"http://www.w3.org/2000/svg\" height=\"24px\"viewBox=\"0 0 24 24\"\n",
              "       width=\"24px\">\n",
              "    <path d=\"M0 0h24v24H0V0z\" fill=\"none\"/>\n",
              "    <path d=\"M18.56 5.44l.94 2.06.94-2.06 2.06-.94-2.06-.94-.94-2.06-.94 2.06-2.06.94zm-11 1L8.5 8.5l.94-2.06 2.06-.94-2.06-.94L8.5 2.5l-.94 2.06-2.06.94zm10 10l.94 2.06.94-2.06 2.06-.94-2.06-.94-.94-2.06-.94 2.06-2.06.94z\"/><path d=\"M17.41 7.96l-1.37-1.37c-.4-.4-.92-.59-1.43-.59-.52 0-1.04.2-1.43.59L10.3 9.45l-7.72 7.72c-.78.78-.78 2.05 0 2.83L4 21.41c.39.39.9.59 1.41.59.51 0 1.02-.2 1.41-.59l7.78-7.78 2.81-2.81c.8-.78.8-2.07 0-2.86zM5.41 20L4 18.59l7.72-7.72 1.47 1.35L5.41 20z\"/>\n",
              "  </svg>\n",
              "      </button>\n",
              "      \n",
              "  <style>\n",
              "    .colab-df-container {\n",
              "      display:flex;\n",
              "      flex-wrap:wrap;\n",
              "      gap: 12px;\n",
              "    }\n",
              "\n",
              "    .colab-df-convert {\n",
              "      background-color: #E8F0FE;\n",
              "      border: none;\n",
              "      border-radius: 50%;\n",
              "      cursor: pointer;\n",
              "      display: none;\n",
              "      fill: #1967D2;\n",
              "      height: 32px;\n",
              "      padding: 0 0 0 0;\n",
              "      width: 32px;\n",
              "    }\n",
              "\n",
              "    .colab-df-convert:hover {\n",
              "      background-color: #E2EBFA;\n",
              "      box-shadow: 0px 1px 2px rgba(60, 64, 67, 0.3), 0px 1px 3px 1px rgba(60, 64, 67, 0.15);\n",
              "      fill: #174EA6;\n",
              "    }\n",
              "\n",
              "    [theme=dark] .colab-df-convert {\n",
              "      background-color: #3B4455;\n",
              "      fill: #D2E3FC;\n",
              "    }\n",
              "\n",
              "    [theme=dark] .colab-df-convert:hover {\n",
              "      background-color: #434B5C;\n",
              "      box-shadow: 0px 1px 3px 1px rgba(0, 0, 0, 0.15);\n",
              "      filter: drop-shadow(0px 1px 2px rgba(0, 0, 0, 0.3));\n",
              "      fill: #FFFFFF;\n",
              "    }\n",
              "  </style>\n",
              "\n",
              "      <script>\n",
              "        const buttonEl =\n",
              "          document.querySelector('#df-95b17be8-67f5-41ea-9794-11f68e374709 button.colab-df-convert');\n",
              "        buttonEl.style.display =\n",
              "          google.colab.kernel.accessAllowed ? 'block' : 'none';\n",
              "\n",
              "        async function convertToInteractive(key) {\n",
              "          const element = document.querySelector('#df-95b17be8-67f5-41ea-9794-11f68e374709');\n",
              "          const dataTable =\n",
              "            await google.colab.kernel.invokeFunction('convertToInteractive',\n",
              "                                                     [key], {});\n",
              "          if (!dataTable) return;\n",
              "\n",
              "          const docLinkHtml = 'Like what you see? Visit the ' +\n",
              "            '<a target=\"_blank\" href=https://colab.research.google.com/notebooks/data_table.ipynb>data table notebook</a>'\n",
              "            + ' to learn more about interactive tables.';\n",
              "          element.innerHTML = '';\n",
              "          dataTable['output_type'] = 'display_data';\n",
              "          await google.colab.output.renderOutput(dataTable, element);\n",
              "          const docLink = document.createElement('div');\n",
              "          docLink.innerHTML = docLinkHtml;\n",
              "          element.appendChild(docLink);\n",
              "        }\n",
              "      </script>\n",
              "    </div>\n",
              "  </div>\n",
              "  "
            ]
          },
          "metadata": {},
          "execution_count": 391
        }
      ]
    },
    {
      "cell_type": "code",
      "source": [
        "print(classification_report(y_test,y_predict))"
      ],
      "metadata": {
        "colab": {
          "base_uri": "https://localhost:8080/"
        },
        "id": "8akDJY3LesSv",
        "outputId": "f30d6cd2-69ce-44d9-aa31-69ac783efe35"
      },
      "execution_count": 392,
      "outputs": [
        {
          "output_type": "stream",
          "name": "stdout",
          "text": [
            "              precision    recall  f1-score   support\n",
            "\n",
            "       11000       1.00      1.00      1.00         6\n",
            "       14000       0.71      1.00      0.83        10\n",
            "       15500       1.00      1.00      1.00        13\n",
            "       16000       0.80      0.67      0.73        12\n",
            "       16400       1.00      1.00      1.00         2\n",
            "       16500       1.00      1.00      1.00         2\n",
            "       17000       1.00      1.00      1.00         3\n",
            "       18000       0.00      0.00      0.00         8\n",
            "       19000       0.44      1.00      0.61         7\n",
            "       19500       1.00      1.00      1.00         2\n",
            "       20000       0.00      0.00      0.00        15\n",
            "       21000       0.00      0.00      0.00        11\n",
            "       22000       0.54      0.88      0.67        17\n",
            "       23000       1.00      1.00      1.00         4\n",
            "       24000       1.00      1.00      1.00         5\n",
            "       25000       0.85      1.00      0.92        17\n",
            "       26000       0.46      1.00      0.63        17\n",
            "       27000       1.00      1.00      1.00         1\n",
            "       28000       1.00      0.31      0.48        16\n",
            "       30000       1.00      1.00      1.00         2\n",
            "       33000       1.00      1.00      1.00         4\n",
            "       35000       1.00      1.00      1.00        11\n",
            "       39000       1.00      1.00      1.00         8\n",
            "       39500       1.00      1.00      1.00         1\n",
            "       42000       1.00      1.00      1.00         2\n",
            "       45000       1.00      1.00      1.00         4\n",
            "\n",
            "    accuracy                           0.74       200\n",
            "   macro avg       0.80      0.84      0.80       200\n",
            "weighted avg       0.69      0.74      0.68       200\n",
            "\n"
          ]
        },
        {
          "output_type": "stream",
          "name": "stderr",
          "text": [
            "/usr/local/lib/python3.7/dist-packages/sklearn/metrics/_classification.py:1318: UndefinedMetricWarning: Precision and F-score are ill-defined and being set to 0.0 in labels with no predicted samples. Use `zero_division` parameter to control this behavior.\n",
            "  labels : list, optional\n",
            "/usr/local/lib/python3.7/dist-packages/sklearn/metrics/_classification.py:1318: UndefinedMetricWarning: Precision and F-score are ill-defined and being set to 0.0 in labels with no predicted samples. Use `zero_division` parameter to control this behavior.\n",
            "  labels : list, optional\n",
            "/usr/local/lib/python3.7/dist-packages/sklearn/metrics/_classification.py:1318: UndefinedMetricWarning: Precision and F-score are ill-defined and being set to 0.0 in labels with no predicted samples. Use `zero_division` parameter to control this behavior.\n",
            "  labels : list, optional\n"
          ]
        }
      ]
    },
    {
      "cell_type": "markdown",
      "source": [
        "#from all the model we under stand the best Model fit for this Datasets is\n"
      ],
      "metadata": {
        "id": "NspurTLwfCl_"
      }
    },
    {
      "cell_type": "code",
      "source": [
        "#The algorithm that gives best accuracy or 85% above accuracy\n",
        "#RandomForestClassifier is the model that give 1.0 accuracy\n",
        "#Decision Tree classifier is the model that give 1.0 accuracy\n",
        "#K neighbour classifier is the model that give 1.0 accuracy\n",
        "# SVM (support vector machine) this algorithm gives more than 85% but less than 90%"
      ],
      "metadata": {
        "id": "m2FTe1bVesE5"
      },
      "execution_count": null,
      "outputs": []
    },
    {
      "cell_type": "code",
      "source": [
        "# those model that gives less then 85% accuracy \n",
        "#Linear Regression\n",
        "#Naive Bayes Algorithm"
      ],
      "metadata": {
        "id": "w4g7ABpcer2m"
      },
      "execution_count": null,
      "outputs": []
    }
  ]
}